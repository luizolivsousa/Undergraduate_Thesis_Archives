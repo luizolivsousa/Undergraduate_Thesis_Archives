{
 "cells": [
  {
   "cell_type": "markdown",
   "metadata": {},
   "source": [
    "Imports"
   ]
  },
  {
   "cell_type": "code",
   "execution_count": 1,
   "metadata": {},
   "outputs": [],
   "source": [
    "import os\n",
    "import glob\n",
    "import random\n",
    "import numpy as np\n",
    "import pandas as pd\n",
    "import plotly.express as px\n",
    "import plotly.graph_objects as go\n",
    "\n",
    "from typing import List, Optional\n",
    "from dataclasses import dataclass\n",
    "from plotly.graph_objs import Figure\n",
    "from itertools import combinations_with_replacement"
   ]
  },
  {
   "cell_type": "markdown",
   "metadata": {},
   "source": [
    "Constants"
   ]
  },
  {
   "cell_type": "code",
   "execution_count": 2,
   "metadata": {},
   "outputs": [],
   "source": [
    "PMC_CONVENTIONAL = 4362.47\n",
    "PMC_OPERATIVE_69 = 2024.481\n",
    "PMC_OPERATIVE_138 = 2513.486\n",
    "\n",
    "PQ_QUANTITY = 49\n",
    "\n",
    "YEARS = [2026, 2028, 2030, 2032, 2034, 2036]\n",
    "PENETRATION_LEVELS = [0, 1, 2, 3, 4, 5, 6, 7, 8, 9, 10]"
   ]
  },
  {
   "cell_type": "markdown",
   "metadata": {},
   "source": [
    "Classes and functions"
   ]
  },
  {
   "cell_type": "code",
   "execution_count": 23,
   "metadata": {},
   "outputs": [],
   "source": [
    "@dataclass\n",
    "class Bar:\n",
    "    '''\n",
    "    A dataclass that retains relevant information about system's bars.\n",
    "\n",
    "    This dataclass stores information about system bars, including the file name, name, voltage class, and a DataFrame.\n",
    "\n",
    "    Attributes:\n",
    "        _file_name (str): The file name associated with the bar data.\n",
    "\n",
    "    Properties:\n",
    "        file_name (str): The file name associated with the bar data.\n",
    "        name (str): The name extracted from the file name (excluding extension).\n",
    "        voltage_class (str): The voltage class extracted from the file name.\n",
    "        df (pd.DataFrame): A DataFrame containing the bar data.\n",
    "    '''\n",
    "\n",
    "    _file_name: str\n",
    "\n",
    "    @property\n",
    "    def file_name(self) -> str:\n",
    "        '''str: The file name associated with the bar data.'''\n",
    "        return self._file_name\n",
    "\n",
    "    @property\n",
    "    def name(self) -> str:\n",
    "        '''str: The name extracted from the file name (excluding extension).'''\n",
    "        return self._file_name[9:-4].strip()\n",
    "\n",
    "    @property\n",
    "    def voltage_class(self) -> str:\n",
    "        '''str: The voltage class extracted from the file name.'''\n",
    "        return self.name[-3:]\n",
    "\n",
    "    @property\n",
    "    def df(self) -> pd.DataFrame:\n",
    "        '''pd.DataFrame: A DataFrame containing the bar data.'''\n",
    "        return self.read_csv(self._file_name)\n",
    "    \n",
    "    @property\n",
    "    def power_threshold(self) -> float:\n",
    "        '''\n",
    "        Get the power threshold for operational voltage based on a filtered DataFrame.\n",
    "\n",
    "        Returns:\n",
    "            float: Power threshold for operational voltage.\n",
    "        '''\n",
    "        filtered_df = self.df.loc[self.df[1].between(0.95, 0.96)] \n",
    "        \n",
    "        if not filtered_df.empty:\n",
    "            voltage_threshold_index = filtered_df[1].idxmin()\n",
    "            power_threshold = filtered_df.at[voltage_threshold_index, 0]\n",
    "        else:\n",
    "            power_threshold = PMC_CONVENTIONAL\n",
    "\n",
    "        return power_threshold\n",
    "    \n",
    "    def read_csv(self, _file_name: str) -> pd.DataFrame:\n",
    "        '''\n",
    "        Read bar data from a CSV file and return it as a DataFrame.\n",
    "\n",
    "        Args:\n",
    "            _file_name (str): The file name of the CSV file.\n",
    "\n",
    "        Returns:\n",
    "            pd.DataFrame: A DataFrame containing the bar data.\n",
    "        '''\n",
    "        df = pd.read_csv(_file_name, delimiter= ';', header= None)\n",
    "        return df\n",
    "    \n",
    "    def calculate_operational_vsm(self, operational_point_power: float) -> float:\n",
    "        '''\n",
    "        Calculate the Voltage Stability Margin (VSM) based on the operational point power.\n",
    "\n",
    "        Parameters:\n",
    "            operational_point_power (float): The operational point power.\n",
    "\n",
    "        Returns:\n",
    "            float: The calculated Voltage Stability Margin (VSM).\n",
    "        '''\n",
    "        return 100 * ((self.power_threshold - operational_point_power) / self.power_threshold)\n",
    "\n",
    "    def __repr__(self) -> str:\n",
    "        '''str: A string representation of the Bar instance.'''\n",
    "        return '{} -- Voltage class: {} -- Power Threshold for Operational Voltage: {:.2f}'.format(self.name.strip(),\n",
    "                                                                                                   self.voltage_class,\n",
    "                                                                                                   self.power_threshold)\n",
    "    \n",
    "def get_random_sum(loads: List[int],\n",
    "                   iterations: int\n",
    "                   ) -> float:\n",
    "    '''\n",
    "    Calculate the sum of a random selection of load values in megawatts (MW).\n",
    "\n",
    "    This function randomly selects a specified number of load values from the provided list and calculates their sum in megawatts (MW).\n",
    "\n",
    "    Args:\n",
    "        loads (List[int]): A list of load values in megawatts (MW).\n",
    "        iterations (int): The number of iterations to repeat the random selection and summing process.\n",
    "\n",
    "    Returns:\n",
    "        float: The average sum of the randomly selected load values in megawatts (MW) across the specified number of iterations.\n",
    "    '''\n",
    "    \n",
    "    total_sum = 0\n",
    "    for _ in range(iterations):\n",
    "        total_sum += random.sample(population= loads, k= 1)[0]\n",
    "\n",
    "    return total_sum / 1000\n",
    "\n",
    "def increment_power(load: float,\n",
    "                    increment_amount: int,\n",
    "                    increment_percentage: float\n",
    "                    ) -> List[float]:\n",
    "    '''\n",
    "    Increment a load value by a specified number and percentage multiple times.\n",
    "\n",
    "    This function takes a starting load value and increments it by a specified number and percentage for a given number of times.\n",
    "\n",
    "    Args:\n",
    "        load (float): The initial load value.\n",
    "        increment_amount (int): The number of times to increment the load.\n",
    "        increment_percentage (float): The percentage by which to increment the load in each step.\n",
    "\n",
    "    Returns:\n",
    "        list: A list containing the incremented load values, including the initial load.\n",
    "    '''\n",
    "    incremented_values = [load]\n",
    "\n",
    "    for _ in range(increment_amount):\n",
    "        load *= (1 + increment_percentage)\n",
    "        incremented_values.append(load)\n",
    "\n",
    "    return incremented_values\n",
    "\n",
    "def make_matrices(max_power: float,\n",
    "                  load_value: List[int],\n",
    "                  charging_station_power: List[float],\n",
    "                  penetration_level: int,\n",
    "                  increment: bool = False\n",
    "                  ) -> tuple[List[List], List[List]]:\n",
    "    '''\n",
    "    Generate matrices of power and margin of stability based on max power, load, charging station power, and increment settings.\n",
    "\n",
    "    This function calculates power and margin of stability matrices for a given load value and power value reference, considering various charging station power scenarios.\n",
    "\n",
    "    Args\n",
    "        max_power (float): Reference power value.\n",
    "        load_value (float): The base load value.\n",
    "        charging_station_power (list): A list of charging station power values.\n",
    "        increment (bool, optional): Whether to increment load with charging station power scenarios (default is False).\n",
    "\n",
    "    Returns:\n",
    "        tuple: A tuple containing two lists of lists:\n",
    "            - A power matrix: List of lists representing power values for different scenarios.\n",
    "            - A margin of stability matrix: List of lists representing margin of stability values for different scenarios.\n",
    "    '''\n",
    "    pow_matrix = []\n",
    "    vsm_matrix = []\n",
    "    evh_matrix = []\n",
    "\n",
    "    for i in range(PQ_QUANTITY):\n",
    "        pow_row = []\n",
    "        vsm_row = []\n",
    "        evh_row = []\n",
    "\n",
    "        for _ in range(200):\n",
    "            charging_site_power = (i + 1) * get_random_sum(charging_station_power,\n",
    "                                                           get_amount= 3,\n",
    "                                                           iterations= penetration_level)\n",
    "            \n",
    "            power_value = (load_value + charging_site_power) if increment else load_value\n",
    "\n",
    "            vsm_value = 100.0 * ((max_power - power_value) / max_power)\n",
    "\n",
    "            pow_row.append(power_value)\n",
    "            vsm_row.append(vsm_value)\n",
    "            evh_row.append(charging_site_power)\n",
    "\n",
    "        pow_matrix.append(pow_row)\n",
    "        vsm_matrix.append(vsm_row)\n",
    "        evh_matrix.append(evh_row)\n",
    "    \n",
    "    return pow_matrix, vsm_matrix\n",
    "\n",
    "def filter_by_voltage(bars: List[Bar],\n",
    "                      voltage_class: Optional[str] = None\n",
    "                      ) -> List[Bar]:\n",
    "    '''\n",
    "    Filter a list of Bar instances by their voltage_class attribute.\n",
    "\n",
    "    Args:\n",
    "        bars (List[Bar]): List of Bar instances to filter.\n",
    "        voltage_class (str): The voltage class to filter by. Defaults to None.\n",
    "\n",
    "    Returns:\n",
    "        List[Bar]: List of filtered Bar instances.\n",
    "    '''\n",
    "\n",
    "    if voltage_class is None:\n",
    "        return bars\n",
    "    \n",
    "    filtered_bars = [bar for bar in bars if bar.voltage_class == voltage_class]\n",
    "    \n",
    "    return filtered_bars\n",
    "\n",
    "def matrix_to_list(target_matrix: List[List[float]]) -> List[float]:\n",
    "    '''\n",
    "    Turns a matrix into a list.\n",
    "\n",
    "    Args:\n",
    "        target_matrix (List[List[float]]): Matrix to be turned into a list.\n",
    "\n",
    "    Returns:\n",
    "        List[float]: List of elements of target_matrix.\n",
    "    '''\n",
    "\n",
    "    matrix_as_list = [element for row in target_matrix for element in row]\n",
    "\n",
    "    return matrix_as_list\n",
    "\n",
    "def save_as_csv(target_data, file_name, folder_path):\n",
    "    '''\n",
    "    Save a list of data to a CSV file.\n",
    "\n",
    "    Args:\n",
    "        target_data (list): The data to be saved.\n",
    "        file_name (str): The name of the CSV file.\n",
    "        folder_path (str): The path to the folder where the file will be saved.\n",
    "\n",
    "    Returns:\n",
    "        None\n",
    "    '''\n",
    "    file_path = os.path.join(folder_path, file_name)\n",
    "\n",
    "    pd.DataFrame(target_data).to_csv(file_path, index= False, header= None)\n",
    "\n",
    "def avg(input_list: List) -> float:\n",
    "    average_value = sum(input_list) / len(input_list) \n",
    "    \n",
    "    return average_value \n",
    "\n",
    "def conventional_heatmap(target_matrix: dict,\n",
    "                         title: str) -> Figure:\n",
    "    '''\n",
    "    Create a heatmap using Plotly Express.\n",
    "\n",
    "    Parameters:\n",
    "        target_matrix (dict): A nested dictionary containing matrix data.\n",
    "        title (str): A string to be used as title.\n",
    "\n",
    "    Returns:\n",
    "        A Figure object.\n",
    "    '''\n",
    "    min_values_matrix = {}\n",
    "    avg_values_matrix = {}\n",
    "    max_values_matrix = {}\n",
    "\n",
    "    for year in YEARS:\n",
    "        min_values_matrix[year] = {}\n",
    "        avg_values_matrix[year] = {}\n",
    "        max_values_matrix[year] = {}\n",
    "\n",
    "        for penetration_level in PENETRATION_LEVELS:\n",
    "            current_matrix = target_matrix[year][penetration_level]\n",
    "            \n",
    "            min_values_matrix[year][penetration_level] = min_value = min(min(current_matrix))\n",
    "            avg_values_matrix[year][penetration_level] = avg_value = avg(matrix_to_list(current_matrix))\n",
    "            max_values_matrix[year][penetration_level] = max_value = max(max(current_matrix))\n",
    "\n",
    "    min_df = pd.DataFrame([(year, penetration_level, min_value) \n",
    "                    for year, penetration_levels_dict in min_values_matrix.items()\n",
    "                    for penetration_level, min_value in penetration_levels_dict.items()],\n",
    "                    columns=['Years', 'Penetration Levels', 'Avg Values'])\n",
    "\n",
    "    fig = px.imshow(min_df.pivot(index= 'Penetration Levels',\n",
    "                                 columns= 'Years',\n",
    "                                 values= 'Avg Values'),\n",
    "                    x= YEARS,\n",
    "                    y= PENETRATION_LEVELS[::-1],\n",
    "                    labels= dict(color= 'Avg Values'),\n",
    "                    title= title,\n",
    "                    color_continuous_scale= 'Portland',\n",
    "                    aspect= 'auto')\n",
    "    \n",
    "    fig.update_layout(title= title,\n",
    "                      xaxis_title= 'Year',\n",
    "                      yaxis_title= 'Pen Level')\n",
    "\n",
    "    fig.update_layout(yaxis=dict(tickvals= list(range(0, 11)),\n",
    "                                 ticktext= list(range(10, -1, -1))))\n",
    "    fig.update_layout(xaxis=dict(tickvals= YEARS,\n",
    "                                 ticktext= YEARS))\n",
    "\n",
    "    for year in YEARS:\n",
    "        for idx, penetration_level in enumerate(PENETRATION_LEVELS[::-1]):\n",
    "            min_value = min_values_matrix[year][penetration_level]\n",
    "            max_value = max_values_matrix[year][penetration_level]\n",
    "            fig.add_annotation(x=year, y=idx, text='{:.2f}<br>{:.2f}'.format(max_value, min_value),\n",
    "                            showarrow=False, font=dict(color='white'), align='center')\n",
    "\n",
    "    fig.update_layout(height= 600,\n",
    "                      width= 1200)\n",
    "    fig.update_layout(title_x= 0.5)\n",
    "\n",
    "    return fig\n",
    "    \n",
    "def bar_group_heatmap(target_directory: str,\n",
    "                            title: str\n",
    "                            ) -> Figure:\n",
    "    '''\n",
    "    Generate a heatmap from CSV files in the specified directory.\n",
    "\n",
    "    Parameters:\n",
    "    - target_directory (str): The path to the directory containing CSV files.\n",
    "    - title (str): The title of the heatmap.\n",
    "\n",
    "    Returns:\n",
    "    - Figure: Plotly figure object representing the heatmap.\n",
    "    '''\n",
    "\n",
    "    min_values_dict = {}\n",
    "    max_values_dict = {}\n",
    "\n",
    "    for desired_year in YEARS:\n",
    "        pattern = f'*_{desired_year}_*.csv'\n",
    "        files = glob.glob(os.path.join(target_directory, pattern))\n",
    "\n",
    "        for file_path in files:\n",
    "            df = pd.read_csv(file_path)\n",
    "\n",
    "            _, barname, year_from_filename, _, _, pen_level_with_extension = os.path.basename(file_path).split('_')\n",
    "\n",
    "            year_from_filename = int(year_from_filename)\n",
    "            pen_level = int(pen_level_with_extension.split('.')[0])\n",
    "\n",
    "            if year_from_filename not in min_values_dict:\n",
    "                min_values_dict[year_from_filename] = {}\n",
    "                max_values_dict[year_from_filename] = {}\n",
    "\n",
    "            min_values_dict[year_from_filename][pen_level] = df.min().min()\n",
    "            max_values_dict[year_from_filename][pen_level] = df.max().max()\n",
    "\n",
    "            for year, values in min_values_dict.items():\n",
    "                sorted_pen_levels = sorted(values,\n",
    "                                           key= values.get,\n",
    "                                           reverse= True)\n",
    "                min_values_dict[year] = {pen_level: values[pen_level] for pen_level in sorted_pen_levels}\n",
    "            \n",
    "            for year, values in max_values_dict.items():\n",
    "                sorted_pen_levels = sorted(values,\n",
    "                                           key= values.get,\n",
    "                                           reverse= True)\n",
    "                max_values_dict[year] = {pen_level: values[pen_level] for pen_level in sorted_pen_levels}\n",
    "\n",
    "    min_df = pd.DataFrame(min_values_dict)\n",
    "\n",
    "    fig = px.imshow(min_df,\n",
    "                    labels=dict(x=\"Pen Level\", y=\"Year\", color=\"Minimum Value\"),\n",
    "                    x=min_df.columns,\n",
    "                    y=min_df.index[::-1],\n",
    "                    color_continuous_scale=\"Portland\",\n",
    "                    aspect= 'auto')\n",
    "\n",
    "    fig.update_layout(title= title,\n",
    "                      xaxis_title= 'Year',\n",
    "                      yaxis_title= 'Pen Level')\n",
    "\n",
    "    fig.update_layout(yaxis= dict(tickvals= list(range(0, 11)),\n",
    "                                  ticktext= list(range(10, -1, -1))))\n",
    "    fig.update_layout(xaxis= dict(tickvals= YEARS,\n",
    "                                  ticktext= YEARS))\n",
    "\n",
    "    for year in YEARS:\n",
    "        for idx, penetration_level in enumerate(PENETRATION_LEVELS[::-1]):\n",
    "            min_value = min_values_dict[year][penetration_level]\n",
    "            max_value = max_values_dict[year][penetration_level]\n",
    "            fig.add_annotation(x=year, y=idx, text='{:.2f}<br>{:.2f}'.format(max_value, min_value),\n",
    "                            showarrow=False, font=dict(color='white'), align='center')\n",
    "            \n",
    "    fig.update_layout(height= 600,\n",
    "                      width= 1200)\n",
    "    fig.update_layout(title_x= 0.5)\n",
    "\n",
    "    return fig\n",
    "\n",
    "def housing_capacity_heatmap(target_directory: str,\n",
    "                             title: str\n",
    "                            ) -> Figure:\n",
    "    '''\n",
    "    Generate a heatmap from CSV files in the specified directory.\n",
    "\n",
    "    Parameters:\n",
    "    - target_directory (str): The path to the directory containing CSV files.\n",
    "    - title (str): The title of the heatmap.\n",
    "\n",
    "    Returns:\n",
    "    - Figure: Plotly figure object representing the heatmap.\n",
    "    '''\n",
    "\n",
    "    min_values_dict = {}\n",
    "    avg_values_dict = {}\n",
    "    max_values_dict = {}\n",
    "\n",
    "    for desired_year in YEARS:\n",
    "            pattern = f'*_{desired_year}_*.csv'\n",
    "            files = glob.glob(os.path.join(target_directory, pattern))\n",
    "\n",
    "            for file_path in files:\n",
    "                avaible_power_df = pd.read_csv(file_path)\n",
    "\n",
    "                _, _, _, year_from_filename, _, _, pen_level_with_extension = os.path.basename(file_path).split('_')\n",
    "\n",
    "                year_from_filename = int(year_from_filename)\n",
    "                pen_level = int(pen_level_with_extension.split('.')[0])\n",
    "\n",
    "                if year_from_filename not in min_values_dict:\n",
    "                    min_values_dict[year_from_filename] = {}\n",
    "                    avg_values_dict[year_from_filename] = {}\n",
    "                    max_values_dict[year_from_filename] = {}\n",
    "\n",
    "                min_values_dict[year_from_filename][pen_level] = int(round(avaible_power_df // WORST_CASE_STATION_POWER).min().min())\n",
    "                avg_values_dict[year_from_filename][pen_level] = int(round(avaible_power_df // AVG_CASE_STATION_POWER).mean().mean())\n",
    "                max_values_dict[year_from_filename][pen_level] = int(round(avaible_power_df // BEST_CASE_STATION_POWER).max().max())\n",
    "\n",
    "                for year, values in min_values_dict.items():\n",
    "                    sorted_pen_levels = sorted(values,\n",
    "                                               key= values.get,\n",
    "                                               reverse= True)\n",
    "                    min_values_dict[year] = {pen_level: values[pen_level] for pen_level in sorted_pen_levels}\n",
    "                \n",
    "                for year, values in max_values_dict.items():\n",
    "                    sorted_pen_levels = sorted(values,\n",
    "                                               key= values.get,\n",
    "                                               reverse= True)\n",
    "                    max_values_dict[year] = {pen_level: values[pen_level] for pen_level in sorted_pen_levels}\n",
    "\n",
    "    avg_df = pd.DataFrame(avg_values_dict).sort_index(ascending= True)\n",
    "\n",
    "    fig = px.imshow(avg_df,\n",
    "                    labels= dict(x= \"Year\", \n",
    "                                 y= \"Pen Level\", \n",
    "                                 color= \"Avg Value\"),\n",
    "                    x= avg_df.columns,\n",
    "                    y= avg_df.index[::-1],\n",
    "                    color_continuous_scale= \"Portland\",\n",
    "                    aspect= 'auto')\n",
    "\n",
    "    fig.update_layout(title= title,\n",
    "                      xaxis_title= 'Year',\n",
    "                      yaxis_title= 'Pen Level')\n",
    "\n",
    "    fig.update_layout(yaxis= dict(tickvals= list(range(0, 11)),\n",
    "                                  ticktext=list(range(10, -1, -1))))\n",
    "    fig.update_layout(xaxis= dict(tickvals=YEARS,\n",
    "                                  ticktext=YEARS))\n",
    "\n",
    "    for year in YEARS:\n",
    "            for idx, penetration_level in enumerate(PENETRATION_LEVELS[::-1]):\n",
    "                min_value = min_values_dict[year][penetration_level]\n",
    "                max_value = max_values_dict[year][penetration_level]\n",
    "                fig.add_annotation(x= year,\n",
    "                                   y= idx,\n",
    "                                   text= '{}<br>{}'.format(max_value, min_value),\n",
    "                                   showarrow= False,\n",
    "                                   font= dict(color='white'),\n",
    "                                   align= 'center')\n",
    "                \n",
    "    fig.update_layout(height= 600,\n",
    "                      width= 1200)\n",
    "    fig.update_layout(title_x= 0.5)\n",
    "\n",
    "\n",
    "    return fig\n"
   ]
  },
  {
   "cell_type": "markdown",
   "metadata": {},
   "source": [
    "Bar objects"
   ]
  },
  {
   "cell_type": "code",
   "execution_count": 4,
   "metadata": {},
   "outputs": [],
   "source": [
    "folder_path = r'PVs'\n",
    "\n",
    "bars = []\n",
    "\n",
    "for file in os.listdir(folder_path):\n",
    "    if file.endswith('.csv'):\n",
    "        file_path = os.path.join(folder_path, file)\n",
    "        \n",
    "        bar = Bar(file_path)\n",
    "\n",
    "        bars.append(bar)"
   ]
  },
  {
   "cell_type": "markdown",
   "metadata": {},
   "source": [
    "Load defintions"
   ]
  },
  {
   "cell_type": "code",
   "execution_count": 21,
   "metadata": {},
   "outputs": [],
   "source": [
    "HEAVY_LOAD = 1642.69\n",
    "CHARGING_STATION_POWER = [114, 147, 180, 213]\n",
    "\n",
    "WORST_CASE_STATION_POWER = CHARGING_STATION_POWER[-1] * 3 / 1000\n",
    "AVG_CASE_STATION_POWER = avg(CHARGING_STATION_POWER) * 3 / 1000\n",
    "BEST_CASE_STATION_POWER = CHARGING_STATION_POWER[0] * 3 / 1000\n",
    "\n",
    "incremented_loads = increment_power(HEAVY_LOAD, 5, 0.082)\n",
    "\n",
    "possible_load_combinations = list(\n",
    "    np.unique(\n",
    "        [sum(combination) for combination in list(combinations_with_replacement(CHARGING_STATION_POWER,\n",
    "                                                                                3))]\n",
    "        )\n",
    "    )"
   ]
  },
  {
   "cell_type": "code",
   "execution_count": null,
   "metadata": {},
   "outputs": [],
   "source": [
    "# import numpy as np\n",
    "\n",
    "# print(possible_values := [sum(combination) for combination in list(combinations_with_replacement(CHARGING_STATION_POWER, 3))])\n",
    "\n",
    "# values = []\n",
    "\n",
    "# for _ in range(2000):\n",
    "#     value = get_random_sum(CHARGING_STATION_POWER, get_amount= 3, iterations= 1)\n",
    "\n",
    "#     values.append(value)\n",
    "\n",
    "# print(np.unique(values))\n",
    "# print(np.unique(possible_values) / 1000)"
   ]
  },
  {
   "cell_type": "markdown",
   "metadata": {},
   "source": [
    "Conventional VSM"
   ]
  },
  {
   "cell_type": "code",
   "execution_count": null,
   "metadata": {},
   "outputs": [],
   "source": [
    "pow_matrix = {}\n",
    "vsm_matrix = {}\n",
    "\n",
    "for year in YEARS:\n",
    "\n",
    "    load_data = incremented_loads[YEARS.index(year)]\n",
    "\n",
    "    pow_matrix[year] = {}\n",
    "    vsm_matrix[year] = {}\n",
    "    \n",
    "    for penetration_level in PENETRATION_LEVELS:\n",
    "        pow_matrix[year][penetration_level], \\\n",
    "        vsm_matrix[year][penetration_level] = make_matrices(max_power= PMC_CONVENTIONAL,\n",
    "                                                            load_value= load_data,\n",
    "                                                            charging_station_power= CHARGING_STATION_POWER,\n",
    "                                                            penetration_level= penetration_level,\n",
    "                                                            increment= True\n",
    "                                                            )\n",
    "\n",
    "        save_as_csv(target_data= vsm_matrix[year][penetration_level],\n",
    "                    file_name= f'vsm_matrix_{year}_pen_level_{penetration_level}.csv',\n",
    "                    folder_path = r'C:\\Users\\luizsousa\\Documents\\TCC\\6Case met analyses\\Conventional_VSMs')\n",
    "        \n",
    "        save_as_csv(target_data= pow_matrix[year][penetration_level],\n",
    "                    file_name= f'pow_matrix_{year}_pen_level_{penetration_level}.csv',\n",
    "                    folder_path = r'C:\\Users\\luizsousa\\Documents\\TCC\\6Case met analyses\\Power_for_conventional_VSMs')\n",
    "        "
   ]
  },
  {
   "cell_type": "markdown",
   "metadata": {},
   "source": [
    "Operative 69kV reference VSM"
   ]
  },
  {
   "cell_type": "code",
   "execution_count": null,
   "metadata": {},
   "outputs": [],
   "source": [
    "# pow_matrix_69_reference = {}\n",
    "# vsm_matrix_69_reference = {}\n",
    "\n",
    "# for year in YEARS:\n",
    "\n",
    "#     load_data = incremented_loads[YEARS.index(year)]\n",
    "\n",
    "#     pow_matrix_69_reference[year] = {}\n",
    "#     vsm_matrix_69_reference[year] = {}\n",
    "    \n",
    "#     for penetration_level in PENETRATION_LEVELS:\n",
    "#         pow_matrix_69_reference[year][penetration_level], \\\n",
    "#         vsm_matrix_69_reference[year][penetration_level], = make_matrices(max_power= PMC_OPERATIVE_69,\n",
    "#                                                                   load_value= load_data,\n",
    "#                                                                   charging_station_power= charging_station_power,\n",
    "#                                                                   penetration_level= penetration_level,\n",
    "#                                                                   increment= True)\n",
    "\n",
    "#         save_as_csv(target_data= vsm_matrix_69_reference[year][penetration_level],\n",
    "#                     file_name= f'vsm_matrix_{year}_pen_level_{penetration_level}_69_op.csv',\n",
    "#                     folder_path = r'C:\\Users\\luizsousa\\Documents\\TCC\\6Case met analyses\\69_operative_VSMs')"
   ]
  },
  {
   "cell_type": "markdown",
   "metadata": {},
   "source": [
    "Operative 138kV reference VSM"
   ]
  },
  {
   "cell_type": "code",
   "execution_count": null,
   "metadata": {},
   "outputs": [],
   "source": [
    "# pow_matrix_138_reference = {}\n",
    "# vsm_matrix_138_reference = {}\n",
    "\n",
    "# for year in YEARS:\n",
    "\n",
    "#     load_data = incremented_loads[YEARS.index(year)]\n",
    "\n",
    "#     pow_matrix_138_reference[year] = {}\n",
    "#     vsm_matrix_138_reference[year] = {}\n",
    "    \n",
    "#     for penetration_level in PENETRATION_LEVELS:\n",
    "#         pow_matrix_138_reference[year][penetration_level], \\\n",
    "#         vsm_matrix_138_reference[year][penetration_level], = make_matrices(max_power= PMC_OPERATIVE_138,\n",
    "#                                                                   load_value= load_data,\n",
    "#                                                                   charging_station_power= charging_station_power,\n",
    "#                                                                   penetration_level= penetration_level,\n",
    "#                                                                   increment= True)\n",
    "\n",
    "#         save_as_csv(target_data= vsm_matrix_138_reference[year][penetration_level],\n",
    "#                     file_name= f'vsm_matrix_{year}_pen_level_{penetration_level}_138_op.csv',\n",
    "#                     folder_path = r'C:\\Users\\luizsousa\\Documents\\TCC\\6Case met analyses\\138_operative_VSMs')"
   ]
  },
  {
   "cell_type": "markdown",
   "metadata": {},
   "source": [
    "Plots"
   ]
  },
  {
   "cell_type": "code",
   "execution_count": null,
   "metadata": {},
   "outputs": [],
   "source": [
    "fig = go.Figure()\n",
    "\n",
    "voltage_to_be_filtered = None\n",
    "\n",
    "filtered_bars = filter_by_voltage(bars, voltage_to_be_filtered)\n",
    "\n",
    "for index, bar in enumerate(filtered_bars):\n",
    "    data = bar.df.T\n",
    "    \n",
    "    fig.add_trace(\n",
    "        go.Scatter(x= data.values[0],\n",
    "                   y= data.values[1],\n",
    "                   mode= 'lines',\n",
    "                   name= f'Bar {index + 1}: {bar.name}')\n",
    "    )\n",
    "\n",
    "fig.update_layout(\n",
    "    xaxis_title= 'Load (MW)',\n",
    "    yaxis_title= 'Voltage (pu)',\n",
    "    title= f'PxV curves for all voltage levels' \\\n",
    "            if voltage_to_be_filtered == None \\\n",
    "            else f'PxV curves for {voltage_to_be_filtered}kV voltage level',\n",
    "    title_x= 0.5\n",
    ")\n",
    "\n",
    "fig.update_layout(height= 600,\n",
    "                  width= 1200)\n",
    "\n",
    "\n",
    "fig.show()\n"
   ]
  },
  {
   "cell_type": "code",
   "execution_count": null,
   "metadata": {},
   "outputs": [],
   "source": [
    "# fig = go.Figure()\n",
    "\n",
    "# vsm_per_year = []\n",
    "# vsm_per_year_69 = []\n",
    "# vsm_per_year_138 = []\n",
    "\n",
    "# for year in YEARS:\n",
    "#     vsm_per_year.append(vsm_matrix[year][0][0][0])\n",
    "#     vsm_per_year_69.append(vsm_matrix_69_reference[year][0][0][0])\n",
    "#     vsm_per_year_138.append(vsm_matrix_138_reference[year][0][0][0])\n",
    "\n",
    "# fig.add_trace(\n",
    "#     go.Scatter(x= YEARS,\n",
    "#                y= vsm_per_year,\n",
    "#                name= 'Conventional VSM')\n",
    "# )\n",
    "\n",
    "# fig.add_trace(\n",
    "#     go.Scatter(x= YEARS,\n",
    "#                y= vsm_per_year_69,\n",
    "#                name= '69kV operative VSM')\n",
    "# )\n",
    "\n",
    "# fig.add_trace(\n",
    "#     go.Scatter(x= YEARS,\n",
    "#                y= vsm_per_year_138,\n",
    "#                name= '138kV operative VSM')\n",
    "# )\n",
    "\n",
    "# fig.update_layout(\n",
    "#     xaxis_title= 'Years',\n",
    "#     yaxis_title= 'Voltage margin (%)',\n",
    "#     title= 'Voltage Stability Margin Evolution Over the Years',\n",
    "#     title_x= 0.5\n",
    "# )\n",
    "\n",
    "# fig.show()"
   ]
  },
  {
   "cell_type": "code",
   "execution_count": null,
   "metadata": {},
   "outputs": [],
   "source": [
    "fig1 = conventional_heatmap(target_matrix= vsm_matrix,\n",
    "                    title= 'Conventional Voltage Stability Margin Evolution <br> with Penetration Levels Over the Years')\n",
    "\n",
    "fig1.show()\n",
    "\n",
    "# fig2 = make_heatmap(target_matrix= vsm_matrix_69_reference,\n",
    "#                     title= '69kV Operative Point Maintenance Voltage Stability Margin <br> Evolution with Penetration Levels Over the Years')\n",
    "\n",
    "# fig2.show()                                     \n",
    "\n",
    "# fig3 = make_heatmap(target_matri x= vsm_matrix_138_reference,\n",
    "#                     title= '138kV Operative Point Maintenance Voltage Stability Margin <br> Evolution with Penetration Levels Over the Years')\n",
    "\n",
    "# fig3.show()                                     "
   ]
  },
  {
   "cell_type": "code",
   "execution_count": null,
   "metadata": {},
   "outputs": [],
   "source": [
    "# # DATA COLLECTION DONE!!!\n",
    "\n",
    "# target_voltage = '138' \n",
    "# filtered_bars = filter_by_voltage(bars, target_voltage)\n",
    "\n",
    "# def calculate_vsm(bar, power_level):\n",
    "#     return bar.calculate_operational_vsm(power_level)\n",
    "\n",
    "# for bar in filtered_bars:\n",
    "#     for year in YEARS:\n",
    "#         for penetration_level in PENETRATION_LEVELS:\n",
    "#             vsm_values = pd.DataFrame(pow_matrix[year][penetration_level]).apply(lambda x: calculate_vsm(bar, x), axis= 1)\n",
    "\n",
    "#             save_as_csv(target_data= vsm_values,\n",
    "#                         file_name= f'{bar.name}_year_{year}_pen_level_{penetration_level}.csv'.strip(),\n",
    "#                         folder_path= rf'C:\\Users\\luizsousa\\Documents\\TCC\\6Case met analyses\\Operative_VSMs_by_bar_{target_voltage}')\n"
   ]
  },
  {
   "cell_type": "code",
   "execution_count": null,
   "metadata": {},
   "outputs": [],
   "source": [
    "# # DATA COLLECTION DONE!!!\n",
    "\n",
    "# target_voltage = '069' \n",
    "# filtered_bars = filter_by_voltage(bars, target_voltage)\n",
    "\n",
    "# for bar in filtered_bars:\n",
    "#     for year in YEARS:\n",
    "#         for penetration_level in PENETRATION_LEVELS:\n",
    "#             vsm_values = pd.DataFrame(pow_matrix[year][penetration_level]) \\\n",
    "#                            .apply(lambda x: calculate_vsm(bar, x), axis= 1)\n",
    "\n",
    "#             save_as_csv(target_data= vsm_values,\n",
    "#                         file_name= f'{bar.name}_year_{year}_pen_level_{penetration_level}.csv'.strip(),\n",
    "#                         folder_path= rf'C:\\Users\\luizsousa\\Documents\\TCC\\6Case met analyses\\Operative_VSMs_by_bar_{target_voltage}')\n"
   ]
  },
  {
   "cell_type": "code",
   "execution_count": null,
   "metadata": {},
   "outputs": [],
   "source": [
    "fig = bar_group_heatmap(target_directory= r'Operative_VSMs_by_bar_138',\n",
    "                        title= 'Operative Voltage Stability Margin Evolution <br> with Penetration Levels Over the Years for 138kV Bar Group')\n",
    "\n",
    "fig.show()"
   ]
  },
  {
   "cell_type": "code",
   "execution_count": null,
   "metadata": {},
   "outputs": [],
   "source": [
    "fig = bar_group_heatmap(target_directory= r'Operative_VSMs_by_bar_069',\n",
    "                        title= 'Operative Voltage Stability Margin Evolution <br> with Penetration Levels Over the Years for 69kV Bar Group')\n",
    "\n",
    "fig.show()"
   ]
  },
  {
   "cell_type": "markdown",
   "metadata": {},
   "source": [
    "Housing Capacity"
   ]
  },
  {
   "cell_type": "code",
   "execution_count": null,
   "metadata": {},
   "outputs": [],
   "source": [
    "# DATA COLLECTION DONE!!!\n",
    "\n",
    "security_margin = 0.04\n",
    "secure_PMC = PMC_CONVENTIONAL * (1 - security_margin)\n",
    "\n",
    "for year in YEARS:\n",
    "    for penetration_level in PENETRATION_LEVELS:\n",
    "        avaible_power = pd.DataFrame(pow_matrix[year][penetration_level]) \\\n",
    "                            .apply(lambda x: secure_PMC - x)\n",
    "    \n",
    "        save_as_csv(target_data= avaible_power,\n",
    "                    file_name= f'avaible_power_year_{year}_pen_level_{penetration_level}.csv',\n",
    "                    folder_path= r'C:\\Users\\luizsousa\\Documents\\TCC\\6Case met analyses\\Conventional_avaible_power')\n"
   ]
  },
  {
   "cell_type": "code",
   "execution_count": null,
   "metadata": {},
   "outputs": [],
   "source": [
    "fig = housing_capacity_heatmap(target_directory= r'Conventional_avaible_power',\n",
    "                               title= 'Housing Capacity Evolution <br> with Penetration Levels Over the Years'\n",
    "                               )\n",
    "\n",
    "fig.show()"
   ]
  },
  {
   "cell_type": "code",
   "execution_count": 8,
   "metadata": {},
   "outputs": [],
   "source": [
    "# Filtering of bars in the target voltage groups.\n",
    "selected_bars = filter_by_voltage(bars= bars, voltage_class= '069') + filter_by_voltage(bars= bars, voltage_class= '138')\n",
    "\n",
    "sorted_selected_bars = sorted([bar for bar in selected_bars], key= lambda bar: (bar.voltage_class, bar.power_threshold))"
   ]
  },
  {
   "cell_type": "code",
   "execution_count": 9,
   "metadata": {},
   "outputs": [],
   "source": [
    "power_threshold_of_selected_bars = [bar.power_threshold for bar in sorted_selected_bars]\n",
    "\n",
    "# Dictionaries for storage.\n",
    "avaible_power_dict = {}\n",
    "housing_capacity_dict = {}\n",
    "\n",
    "# Outer loop that iterates over the length of selected_bars list.\n",
    "for year in YEARS:\n",
    "    \n",
    "    avaible_power_dict[year] = {}\n",
    "    housing_capacity_dict[year] = {}\n",
    "    \n",
    "    # Inner loop that iterates over the years.\n",
    "    for index, bar in enumerate(selected_bars):\n",
    "\n",
    "        avaible_power_dict[year][bar.name] = {}\n",
    "        housing_capacity_dict[year][bar.name] = {}\n",
    "        \n",
    "        avaible_power_list = []\n",
    "        amount_cs_list = []\n",
    "\n",
    "        # Innermost loop that repeats the avaible power calculation repeated times.\n",
    "        for _ in range(1000):\n",
    "\n",
    "            # The power threshold for normal operation limits is sampled from power_threshold_of_selected_bars list and then\n",
    "            # year_load is subtracted from it. This gives an random amount of power avaible for the charging stations to be\n",
    "            # stored in. \n",
    "            sampled_power_threshold = random.sample(random.sample(population= power_threshold_of_selected_bars, k= index+1), k= 1)[0]\n",
    "            avaible_power = sampled_power_threshold - incremented_loads[YEARS.index(year)]\n",
    "\n",
    "            # The power of the charging stations package is calculated selection three values from CHARGING_STATION_POWER.\n",
    "            charging_stations = get_random_sum(loads= CHARGING_STATION_POWER, get_amount= 3, iterations= 1)\n",
    "            \n",
    "            # Having these values is possible to determinate the amount of charging stations that can be stored in the avaible power.\n",
    "            amount_cs = avaible_power // charging_stations\n",
    "            \n",
    "            # All the calculated amounts are stored in a list.\n",
    "            avaible_power_list.append(avaible_power)\n",
    "            amount_cs_list.append(int(amount_cs))\n",
    "\n",
    "        # The list in stored in the previously created dictionary, grouped by year.\n",
    "        housing_capacity_dict[year][bar.name] = amount_cs_list\n",
    "        avaible_power_dict[year][bar.name] = avaible_power_list\n",
    "\n",
    "        save_as_csv(target_data= housing_capacity_dict[year][bar.name],\n",
    "                    file_name= f'housing_capacity_{year}_ref_{bar.name}.csv',\n",
    "                    folder_path = r'C:\\Users\\luizsousa\\Documents\\TCC\\6Case met analyses\\Housing_capacity')\n",
    "        \n",
    "        save_as_csv(target_data= avaible_power_dict[year][bar.name],\n",
    "                    file_name= f'avaible_power_{year}_ref_{bar.name}.csv',\n",
    "                    folder_path = r'C:\\Users\\luizsousa\\Documents\\TCC\\6Case met analyses\\Avaible_power')"
   ]
  },
  {
   "cell_type": "code",
   "execution_count": null,
   "metadata": {},
   "outputs": [],
   "source": [
    "# min_housing_capacity_per_year = [min(min(bar_data) for bar_data in year_data.values()) for year_data in housing_capacity_dict.values()]\n",
    "\n",
    "# print(min_housing_capacity_per_year)"
   ]
  },
  {
   "cell_type": "code",
   "execution_count": 39,
   "metadata": {},
   "outputs": [
    {
     "name": "stdout",
     "output_type": "stream",
     "text": [
      "2026 500 [153, 155, 156, 157, 157, 157, 157, 158, 160, 160, 160, 161, 161, 235, 237, 237, 239, 239, 240, 240, 251, 252, 253, 254, 256, 256, 257, 257, 258, 258, 259, 550, 552, 556, 556, 556, 557, 558, 558, 559, 560, 566, 566, 648, 652, 652, 653, 654, 654, 655, 656, 690, 692, 693, 694, 694, 694, 695, 696, 698, 701, 707, 1107, 1107, 1110, 1111, 1113, 1114, 1116, 1119, 1120, 1122, 1128, 1262, 1264, 1265, 1266, 1268, 1268, 1268, 1269, 1271, 1272, 1273, 1277, 1277, 1277, 1278, 1278, 1281, 1282, 1283, 1284, 1285, 1287, 1287, 1304, 1304, 1307, 1308, 1313, 1317, 1318, 1320, 1699, 1701, 1708, 1712, 1715, 1716, 1716, 1716, 1717, 1718, 1721, 1729, 1730, 1731, 1733, 1733, 1735, 1735, 1739, 1739, 1744, 1745, 1746, 1749, 1753, 1755, 1758, 1761, 1761, 1764, 1787, 1791, 1791, 1793, 1793, 1795, 1796, 1796, 1800, 1805, 1811, 1821, 1828, 1828, 1829, 1833, 1834, 1843, 1849, 1851, 1852, 1856, 1858, 1858, 1861, 1865, 1997, 1999, 1999, 2002, 2004, 2008, 2008, 2018, 2021, 2120, 2123, 2130, 2131, 2131, 2132, 2135, 2135, 2136, 2137, 2137, 2137, 2140, 2140, 2140, 2141, 2142, 2143, 2145, 2148, 2148, 2148, 2148, 2149, 2150, 2150, 2151, 2151, 2151, 2152, 2152, 2153, 2154, 2155, 2156, 2157, 2158, 2158, 2158, 2159, 2160, 2160, 2163, 2165, 2166, 2170, 2173, 2175, 2176, 2177, 2177, 2179, 2179, 2180, 2185, 2195, 2198, 2199, 2200, 2202, 2203, 2205, 2206, 2206, 2207, 2211, 2213, 2213, 2214, 2215, 2216, 2216, 2218, 2221, 2224, 2224, 2230, 2389, 2403, 2406, 2408, 2412, 2412, 2413, 2415, 2415, 2419, 2426, 2426, 3359, 3360, 3365, 3366, 3367, 3367, 3372, 3377, 3380, 3381, 3381, 3382, 3383, 3385, 3390, 3392, 3392, 3396, 3396, 3400, 3400, 3401, 3402, 3402, 3405, 3406, 3407, 3409, 3412, 3412, 3413, 3413, 3414, 3414, 3416, 3418, 3430, 3480, 3489, 3490, 3494, 3494, 3498, 3500, 3502, 3504, 3505, 3510, 3514, 3518, 3652, 3654, 3657, 3659, 3660, 3661, 3663, 3664, 3664, 3665, 3666, 3666, 3667, 3667, 3669, 3671, 3672, 3673, 3673, 3674, 3675, 3676, 3679, 3679, 3680, 3680, 3680, 3681, 3681, 3682, 3682, 3682, 3683, 3684, 3684, 3684, 3684, 3685, 3685, 3686, 3687, 3690, 3690, 3691, 3691, 3691, 3693, 3693, 3695, 3698, 3702, 3706, 3898, 3900, 3901, 3901, 3904, 3905, 3905, 3906, 3907, 3910, 3910, 3911, 3911, 3911, 3911, 3912, 3912, 3913, 3913, 3914, 3914, 3914, 3915, 3915, 3916, 3916, 3916, 3916, 3916, 3917, 3917, 3917, 3917, 3918, 3918, 3919, 3919, 3920, 3920, 3920, 3921, 3921, 3921, 3921, 3921, 3921, 3921, 3921, 3922, 3922, 3922, 3922, 3922, 3922, 3922, 3922, 3923, 3923, 3923, 3923, 3923, 3923, 3924, 3924, 3924, 3924, 3925, 3925, 3925, 3925, 3925, 3925, 3926, 3926, 3926, 3927, 3927, 3928, 3928, 3928, 3928, 3928, 3929, 3929, 3930, 3930, 3931, 3931, 3931, 3932, 3932, 3932, 3933, 3933, 3933, 3933, 3933, 3933, 3933, 3933, 3934, 3934, 3935, 3936, 3936, 3936, 3936, 3936, 3937, 3937, 3938, 3938, 3938, 3938, 3938, 3939, 3939, 3939, 3939, 3940, 3940, 3941, 3942, 3942, 3942, 3942, 3943, 3944, 3944, 3944, 3944, 3945, 3946, 3947, 3947, 3947, 3948, 3952, 3952, 3955]\n",
      "2028 500 [155, 156, 156, 156, 157, 157, 158, 159, 159, 160, 236, 236, 237, 238, 238, 241, 243, 243, 254, 255, 255, 256, 256, 256, 258, 259, 261, 261, 546, 550, 554, 555, 556, 556, 556, 560, 561, 561, 561, 565, 647, 649, 649, 651, 651, 654, 656, 656, 657, 657, 660, 660, 662, 689, 692, 692, 693, 693, 694, 696, 696, 697, 697, 698, 698, 699, 700, 702, 702, 1105, 1111, 1111, 1111, 1113, 1113, 1118, 1119, 1121, 1121, 1262, 1263, 1264, 1264, 1265, 1266, 1266, 1270, 1271, 1272, 1272, 1273, 1274, 1275, 1275, 1276, 1276, 1276, 1276, 1277, 1277, 1278, 1281, 1282, 1282, 1283, 1300, 1301, 1305, 1306, 1309, 1312, 1313, 1313, 1314, 1314, 1316, 1317, 1317, 1318, 1319, 1319, 1319, 1320, 1327, 1700, 1700, 1712, 1714, 1720, 1722, 1723, 1735, 1736, 1738, 1738, 1738, 1740, 1741, 1742, 1745, 1747, 1748, 1749, 1750, 1750, 1751, 1751, 1754, 1757, 1757, 1759, 1760, 1764, 1768, 1768, 1778, 1785, 1785, 1786, 1786, 1788, 1789, 1796, 1798, 1804, 1806, 1818, 1821, 1828, 1831, 1833, 1833, 1834, 1839, 1839, 1839, 1845, 1849, 1849, 1849, 1850, 1851, 1852, 1852, 1856, 1857, 1857, 1861, 1863, 1864, 1998, 2003, 2006, 2006, 2010, 2012, 2015, 2015, 2016, 2022, 2022, 2111, 2118, 2124, 2126, 2131, 2134, 2134, 2136, 2137, 2137, 2138, 2139, 2140, 2141, 2143, 2143, 2144, 2144, 2145, 2145, 2146, 2147, 2148, 2150, 2151, 2151, 2151, 2152, 2152, 2153, 2153, 2154, 2155, 2155, 2158, 2159, 2161, 2162, 2163, 2165, 2166, 2167, 2168, 2170, 2171, 2172, 2174, 2174, 2175, 2176, 2176, 2176, 2184, 2185, 2189, 2194, 2198, 2203, 2204, 2205, 2206, 2207, 2210, 2211, 2211, 2212, 2212, 2212, 2213, 2213, 2217, 2220, 2223, 2224, 2236, 2392, 2402, 2404, 2407, 2409, 2410, 2411, 2414, 2417, 2418, 3368, 3371, 3372, 3378, 3378, 3379, 3381, 3386, 3386, 3394, 3397, 3397, 3399, 3400, 3400, 3400, 3404, 3405, 3406, 3407, 3409, 3411, 3413, 3414, 3414, 3415, 3415, 3418, 3419, 3422, 3423, 3427, 3481, 3482, 3501, 3502, 3506, 3507, 3508, 3509, 3515, 3519, 3656, 3657, 3657, 3663, 3664, 3666, 3666, 3667, 3667, 3670, 3670, 3670, 3671, 3672, 3674, 3674, 3674, 3674, 3674, 3675, 3675, 3676, 3676, 3677, 3678, 3678, 3678, 3678, 3680, 3682, 3682, 3682, 3682, 3682, 3682, 3683, 3684, 3685, 3688, 3688, 3689, 3689, 3692, 3693, 3695, 3696, 3697, 3899, 3900, 3900, 3901, 3905, 3907, 3907, 3907, 3910, 3910, 3910, 3910, 3911, 3912, 3912, 3912, 3912, 3913, 3913, 3913, 3913, 3914, 3914, 3914, 3915, 3915, 3916, 3917, 3917, 3917, 3917, 3917, 3918, 3918, 3918, 3918, 3918, 3918, 3919, 3919, 3919, 3919, 3919, 3920, 3920, 3920, 3920, 3920, 3921, 3921, 3921, 3921, 3921, 3922, 3922, 3922, 3922, 3923, 3923, 3923, 3923, 3924, 3924, 3924, 3925, 3925, 3925, 3926, 3926, 3926, 3926, 3926, 3926, 3927, 3927, 3927, 3927, 3927, 3928, 3928, 3928, 3929, 3930, 3930, 3930, 3930, 3931, 3931, 3932, 3932, 3932, 3932, 3932, 3932, 3933, 3933, 3933, 3933, 3933, 3933, 3933, 3933, 3934, 3934, 3934, 3934, 3936, 3937, 3937, 3937, 3938, 3938, 3938, 3940, 3941, 3941, 3941, 3942, 3944, 3944, 3944, 3944, 3946, 3950, 3958]\n",
      "2030 500 [153, 154, 155, 156, 156, 156, 157, 158, 159, 159, 159, 159, 159, 160, 160, 161, 163, 232, 236, 241, 244, 253, 254, 256, 256, 257, 258, 259, 259, 260, 262, 547, 549, 553, 554, 557, 558, 559, 560, 560, 562, 565, 650, 652, 653, 653, 656, 656, 657, 658, 659, 661, 661, 667, 687, 688, 690, 691, 692, 693, 693, 694, 694, 694, 694, 695, 695, 695, 696, 698, 701, 701, 1110, 1111, 1116, 1124, 1264, 1264, 1265, 1266, 1268, 1268, 1271, 1272, 1273, 1274, 1282, 1282, 1282, 1282, 1282, 1293, 1303, 1307, 1308, 1308, 1313, 1313, 1314, 1318, 1319, 1319, 1319, 1700, 1700, 1702, 1703, 1704, 1711, 1713, 1714, 1715, 1715, 1719, 1723, 1729, 1733, 1735, 1735, 1736, 1736, 1743, 1744, 1745, 1749, 1749, 1754, 1754, 1757, 1764, 1765, 1775, 1778, 1780, 1786, 1792, 1793, 1797, 1797, 1799, 1799, 1801, 1803, 1823, 1826, 1827, 1827, 1828, 1830, 1836, 1837, 1841, 1841, 1844, 1844, 1844, 1850, 1851, 1852, 1855, 1991, 2001, 2003, 2006, 2008, 2014, 2015, 2015, 2016, 2027, 2109, 2124, 2129, 2129, 2130, 2131, 2133, 2133, 2135, 2136, 2137, 2138, 2138, 2140, 2143, 2143, 2144, 2145, 2145, 2146, 2147, 2147, 2148, 2148, 2148, 2149, 2149, 2149, 2150, 2150, 2150, 2150, 2150, 2152, 2154, 2155, 2156, 2157, 2157, 2157, 2158, 2159, 2161, 2162, 2162, 2170, 2175, 2175, 2176, 2181, 2182, 2184, 2185, 2193, 2194, 2195, 2199, 2201, 2202, 2203, 2203, 2204, 2205, 2209, 2211, 2212, 2213, 2213, 2215, 2215, 2216, 2216, 2216, 2217, 2217, 2217, 2219, 2227, 2229, 2400, 2400, 2401, 2402, 2403, 2406, 2408, 2410, 2411, 2413, 2415, 2417, 2421, 2426, 3359, 3359, 3365, 3367, 3371, 3375, 3378, 3379, 3380, 3383, 3386, 3398, 3398, 3400, 3402, 3403, 3404, 3406, 3407, 3407, 3407, 3408, 3409, 3411, 3411, 3412, 3415, 3416, 3417, 3419, 3424, 3425, 3435, 3493, 3494, 3503, 3504, 3505, 3508, 3511, 3515, 3655, 3656, 3660, 3660, 3661, 3661, 3662, 3665, 3666, 3666, 3668, 3669, 3670, 3671, 3672, 3672, 3673, 3673, 3673, 3673, 3674, 3674, 3674, 3675, 3675, 3675, 3675, 3675, 3675, 3677, 3677, 3677, 3678, 3678, 3678, 3679, 3680, 3681, 3681, 3682, 3686, 3688, 3689, 3689, 3690, 3690, 3692, 3694, 3694, 3695, 3706, 3708, 3892, 3900, 3902, 3902, 3904, 3905, 3905, 3906, 3907, 3907, 3908, 3909, 3909, 3910, 3910, 3910, 3911, 3911, 3911, 3913, 3913, 3913, 3913, 3915, 3915, 3916, 3916, 3916, 3917, 3917, 3917, 3918, 3919, 3919, 3919, 3919, 3919, 3919, 3919, 3919, 3919, 3920, 3920, 3920, 3921, 3921, 3922, 3922, 3922, 3922, 3922, 3922, 3923, 3923, 3923, 3923, 3923, 3923, 3923, 3923, 3923, 3923, 3924, 3924, 3924, 3924, 3924, 3924, 3925, 3925, 3925, 3925, 3925, 3925, 3926, 3926, 3926, 3926, 3926, 3926, 3926, 3926, 3926, 3926, 3926, 3927, 3927, 3927, 3928, 3928, 3928, 3928, 3928, 3928, 3929, 3929, 3929, 3929, 3929, 3930, 3930, 3930, 3930, 3931, 3931, 3931, 3931, 3931, 3932, 3933, 3935, 3935, 3935, 3935, 3936, 3936, 3936, 3936, 3936, 3936, 3936, 3937, 3937, 3937, 3938, 3939, 3940, 3940, 3940, 3940, 3941, 3941, 3942, 3942, 3943, 3944, 3944, 3944, 3945, 3946, 3947, 3951, 3953, 3954]\n",
      "2032 500 [152, 152, 155, 157, 158, 159, 159, 162, 163, 237, 238, 238, 239, 246, 252, 253, 254, 254, 254, 254, 255, 255, 255, 255, 256, 257, 257, 258, 259, 259, 546, 548, 551, 554, 554, 554, 554, 556, 556, 557, 557, 557, 558, 558, 558, 559, 559, 560, 561, 563, 563, 642, 646, 649, 650, 652, 654, 656, 658, 691, 691, 692, 692, 693, 694, 696, 696, 699, 701, 701, 705, 1102, 1105, 1112, 1113, 1113, 1114, 1116, 1116, 1117, 1118, 1119, 1119, 1261, 1265, 1266, 1266, 1268, 1268, 1268, 1269, 1269, 1269, 1270, 1270, 1270, 1271, 1272, 1272, 1272, 1272, 1274, 1275, 1276, 1276, 1277, 1277, 1290, 1310, 1310, 1313, 1315, 1318, 1324, 1699, 1708, 1709, 1710, 1713, 1714, 1715, 1717, 1718, 1722, 1722, 1726, 1730, 1734, 1736, 1736, 1743, 1747, 1748, 1750, 1755, 1769, 1779, 1785, 1789, 1801, 1809, 1822, 1824, 1826, 1826, 1837, 1839, 1839, 1842, 1845, 1848, 1849, 1849, 1853, 1854, 1854, 1854, 1855, 1856, 1857, 1857, 1864, 1869, 1997, 2004, 2009, 2010, 2010, 2012, 2016, 2018, 2020, 2025, 2026, 2109, 2122, 2123, 2123, 2127, 2127, 2128, 2129, 2132, 2132, 2135, 2135, 2136, 2136, 2136, 2137, 2137, 2138, 2138, 2140, 2141, 2142, 2143, 2143, 2144, 2145, 2145, 2146, 2147, 2147, 2147, 2148, 2149, 2149, 2150, 2151, 2151, 2152, 2152, 2152, 2153, 2153, 2154, 2154, 2155, 2155, 2156, 2156, 2158, 2159, 2159, 2161, 2165, 2167, 2167, 2175, 2177, 2178, 2181, 2193, 2198, 2199, 2200, 2204, 2209, 2210, 2211, 2211, 2212, 2214, 2214, 2215, 2215, 2217, 2217, 2224, 2226, 2395, 2400, 2401, 2401, 2404, 2405, 2412, 2414, 2420, 2420, 3359, 3368, 3371, 3379, 3381, 3382, 3383, 3384, 3392, 3395, 3395, 3398, 3399, 3401, 3407, 3408, 3409, 3412, 3413, 3417, 3417, 3417, 3417, 3417, 3418, 3419, 3435, 3476, 3490, 3492, 3493, 3498, 3502, 3504, 3504, 3506, 3512, 3657, 3658, 3660, 3660, 3660, 3662, 3662, 3663, 3666, 3668, 3669, 3669, 3671, 3672, 3672, 3674, 3676, 3676, 3677, 3677, 3677, 3678, 3678, 3678, 3678, 3679, 3679, 3682, 3682, 3683, 3684, 3684, 3684, 3686, 3686, 3688, 3688, 3689, 3692, 3693, 3694, 3695, 3701, 3702, 3702, 3708, 3898, 3900, 3901, 3901, 3903, 3904, 3904, 3907, 3907, 3908, 3909, 3909, 3909, 3909, 3910, 3911, 3911, 3911, 3911, 3912, 3912, 3913, 3913, 3913, 3914, 3914, 3914, 3914, 3914, 3915, 3915, 3916, 3916, 3916, 3917, 3918, 3919, 3919, 3919, 3919, 3919, 3919, 3919, 3919, 3920, 3920, 3920, 3920, 3920, 3921, 3921, 3921, 3921, 3921, 3922, 3922, 3922, 3922, 3923, 3923, 3923, 3923, 3923, 3924, 3924, 3924, 3924, 3924, 3924, 3925, 3925, 3925, 3926, 3926, 3926, 3926, 3926, 3927, 3927, 3928, 3928, 3929, 3929, 3929, 3929, 3929, 3929, 3929, 3930, 3930, 3930, 3930, 3930, 3931, 3931, 3931, 3931, 3931, 3932, 3932, 3932, 3932, 3932, 3933, 3933, 3933, 3933, 3933, 3933, 3933, 3934, 3934, 3934, 3935, 3935, 3935, 3935, 3935, 3935, 3935, 3936, 3936, 3936, 3936, 3936, 3937, 3937, 3937, 3937, 3938, 3938, 3939, 3941, 3942, 3942, 3943, 3943, 3943, 3944, 3944, 3945, 3946, 3946, 3946, 3946, 3947, 3947, 3947, 3948, 3949, 3951, 3951, 3952, 3952, 3953, 3956]\n",
      "2034 500 [153, 154, 155, 157, 158, 158, 159, 159, 160, 161, 233, 234, 237, 238, 239, 241, 241, 242, 252, 253, 253, 253, 254, 254, 255, 255, 255, 255, 256, 257, 258, 258, 258, 260, 549, 552, 553, 554, 555, 556, 559, 561, 562, 563, 565, 647, 651, 654, 655, 656, 659, 663, 687, 688, 689, 691, 691, 692, 693, 693, 694, 700, 1111, 1112, 1113, 1113, 1114, 1115, 1115, 1122, 1264, 1266, 1267, 1268, 1268, 1269, 1269, 1270, 1270, 1270, 1271, 1272, 1273, 1277, 1279, 1281, 1285, 1285, 1288, 1309, 1315, 1315, 1316, 1316, 1317, 1319, 1320, 1321, 1326, 1696, 1702, 1704, 1706, 1706, 1712, 1718, 1720, 1721, 1724, 1727, 1729, 1730, 1731, 1731, 1731, 1734, 1735, 1737, 1738, 1738, 1739, 1740, 1741, 1746, 1750, 1751, 1780, 1784, 1784, 1786, 1786, 1787, 1789, 1791, 1798, 1804, 1818, 1823, 1825, 1825, 1827, 1830, 1835, 1835, 1835, 1836, 1836, 1837, 1838, 1841, 1846, 1847, 1849, 1851, 1853, 1857, 1858, 1858, 1862, 1862, 1863, 1994, 2006, 2006, 2006, 2009, 2010, 2013, 2016, 2016, 2016, 2019, 2112, 2120, 2121, 2121, 2127, 2129, 2131, 2132, 2132, 2134, 2137, 2138, 2139, 2139, 2142, 2142, 2142, 2142, 2144, 2144, 2145, 2147, 2147, 2149, 2149, 2150, 2150, 2150, 2151, 2152, 2153, 2153, 2153, 2153, 2154, 2154, 2156, 2158, 2159, 2160, 2161, 2162, 2163, 2163, 2164, 2164, 2165, 2166, 2167, 2173, 2173, 2173, 2176, 2181, 2184, 2188, 2190, 2203, 2204, 2205, 2210, 2211, 2211, 2213, 2215, 2215, 2216, 2217, 2218, 2220, 2220, 2223, 2405, 2408, 2409, 2415, 2417, 2424, 2427, 3353, 3355, 3367, 3370, 3371, 3371, 3374, 3378, 3378, 3380, 3380, 3381, 3383, 3383, 3383, 3393, 3397, 3397, 3398, 3399, 3400, 3401, 3403, 3404, 3404, 3408, 3409, 3413, 3413, 3416, 3417, 3422, 3423, 3423, 3424, 3428, 3428, 3430, 3443, 3483, 3486, 3491, 3492, 3492, 3493, 3501, 3502, 3506, 3507, 3508, 3513, 3516, 3517, 3654, 3655, 3658, 3659, 3660, 3661, 3663, 3663, 3663, 3666, 3666, 3667, 3669, 3669, 3670, 3671, 3671, 3671, 3674, 3674, 3674, 3675, 3675, 3676, 3676, 3676, 3676, 3676, 3677, 3677, 3678, 3678, 3679, 3679, 3680, 3681, 3681, 3681, 3682, 3682, 3683, 3684, 3684, 3685, 3685, 3685, 3685, 3687, 3691, 3692, 3694, 3694, 3694, 3701, 3706, 3708, 3708, 3898, 3902, 3902, 3905, 3905, 3905, 3906, 3907, 3907, 3907, 3907, 3911, 3911, 3912, 3912, 3913, 3913, 3913, 3914, 3914, 3914, 3916, 3916, 3916, 3916, 3917, 3917, 3917, 3918, 3919, 3919, 3919, 3919, 3920, 3920, 3920, 3920, 3921, 3921, 3921, 3921, 3921, 3922, 3922, 3923, 3923, 3923, 3923, 3923, 3923, 3923, 3924, 3924, 3924, 3924, 3924, 3924, 3925, 3925, 3925, 3925, 3925, 3925, 3925, 3926, 3926, 3926, 3926, 3926, 3926, 3926, 3927, 3927, 3927, 3927, 3927, 3927, 3927, 3927, 3928, 3928, 3928, 3928, 3928, 3928, 3929, 3929, 3929, 3930, 3931, 3931, 3931, 3931, 3932, 3932, 3932, 3933, 3933, 3933, 3933, 3934, 3934, 3935, 3935, 3935, 3936, 3937, 3937, 3937, 3937, 3937, 3938, 3938, 3939, 3939, 3939, 3940, 3940, 3941, 3941, 3941, 3942, 3942, 3942, 3943, 3943, 3944, 3945, 3945, 3945, 3945, 3947, 3949, 3949, 3950, 3951, 3952, 3953, 3955]\n",
      "2036 500 [154, 156, 157, 158, 159, 161, 161, 232, 235, 236, 236, 237, 240, 240, 241, 253, 254, 254, 255, 256, 257, 257, 550, 554, 555, 556, 559, 559, 563, 565, 568, 570, 647, 659, 659, 662, 667, 685, 685, 695, 695, 697, 698, 702, 705, 1101, 1104, 1105, 1110, 1113, 1116, 1122, 1129, 1266, 1266, 1266, 1267, 1267, 1271, 1273, 1273, 1273, 1275, 1275, 1276, 1276, 1276, 1277, 1279, 1279, 1283, 1289, 1291, 1301, 1306, 1309, 1316, 1317, 1320, 1320, 1321, 1325, 1326, 1700, 1705, 1709, 1711, 1715, 1715, 1716, 1717, 1721, 1721, 1722, 1723, 1723, 1725, 1725, 1726, 1727, 1730, 1730, 1733, 1733, 1735, 1737, 1740, 1740, 1740, 1745, 1751, 1751, 1751, 1754, 1754, 1754, 1755, 1757, 1758, 1759, 1760, 1762, 1763, 1763, 1765, 1765, 1772, 1784, 1785, 1786, 1786, 1788, 1789, 1802, 1802, 1807, 1808, 1808, 1821, 1829, 1829, 1829, 1830, 1831, 1833, 1837, 1839, 1841, 1842, 1845, 1847, 1847, 1850, 1854, 1862, 1862, 1864, 1867, 1999, 2004, 2004, 2006, 2008, 2009, 2014, 2019, 2020, 2114, 2116, 2124, 2127, 2128, 2128, 2131, 2137, 2137, 2138, 2138, 2138, 2138, 2138, 2138, 2138, 2139, 2140, 2140, 2140, 2142, 2143, 2145, 2146, 2147, 2147, 2148, 2148, 2150, 2150, 2152, 2153, 2153, 2155, 2158, 2159, 2159, 2160, 2161, 2164, 2167, 2169, 2169, 2169, 2169, 2170, 2172, 2178, 2183, 2185, 2190, 2196, 2202, 2205, 2205, 2207, 2212, 2213, 2213, 2214, 2214, 2215, 2216, 2217, 2217, 2219, 2220, 2222, 2222, 2223, 2225, 2226, 2396, 2402, 2402, 2406, 2408, 2408, 2409, 2410, 2411, 2411, 2412, 2422, 3353, 3353, 3370, 3370, 3375, 3377, 3383, 3386, 3388, 3392, 3395, 3396, 3397, 3398, 3399, 3399, 3403, 3403, 3407, 3411, 3412, 3414, 3414, 3416, 3417, 3417, 3418, 3418, 3424, 3424, 3425, 3436, 3496, 3497, 3502, 3518, 3518, 3518, 3519, 3527, 3650, 3655, 3656, 3658, 3660, 3660, 3661, 3661, 3663, 3664, 3665, 3665, 3665, 3666, 3668, 3669, 3669, 3669, 3670, 3671, 3671, 3671, 3671, 3671, 3671, 3672, 3672, 3672, 3673, 3673, 3673, 3673, 3674, 3675, 3675, 3675, 3676, 3676, 3676, 3676, 3677, 3677, 3677, 3678, 3679, 3682, 3682, 3683, 3685, 3685, 3685, 3686, 3687, 3688, 3690, 3690, 3699, 3703, 3896, 3900, 3900, 3904, 3906, 3906, 3906, 3907, 3907, 3908, 3908, 3909, 3909, 3910, 3911, 3912, 3912, 3912, 3913, 3914, 3914, 3914, 3915, 3915, 3915, 3915, 3916, 3916, 3916, 3916, 3917, 3917, 3918, 3918, 3918, 3918, 3919, 3919, 3919, 3919, 3919, 3919, 3920, 3920, 3920, 3920, 3920, 3921, 3922, 3922, 3922, 3922, 3922, 3922, 3923, 3924, 3924, 3924, 3924, 3924, 3924, 3924, 3924, 3925, 3926, 3926, 3926, 3926, 3926, 3927, 3927, 3927, 3927, 3927, 3927, 3927, 3927, 3928, 3928, 3928, 3928, 3928, 3929, 3930, 3930, 3930, 3930, 3930, 3930, 3930, 3930, 3930, 3931, 3931, 3931, 3931, 3932, 3932, 3932, 3932, 3932, 3933, 3933, 3934, 3934, 3934, 3934, 3934, 3934, 3934, 3934, 3934, 3934, 3934, 3935, 3935, 3935, 3935, 3936, 3936, 3936, 3936, 3937, 3937, 3937, 3938, 3938, 3938, 3939, 3939, 3940, 3940, 3941, 3941, 3941, 3942, 3942, 3943, 3944, 3944, 3946, 3946, 3947, 3951, 3953, 3954, 3954, 3955, 3955, 3960, 3963]\n"
     ]
    }
   ],
   "source": [
    "housing_capacity_dict = {}\n",
    "\n",
    "for year in YEARS:\n",
    "\n",
    "    housing_capacity_dict[year] = {}\n",
    "    housing_capacity_list = []\n",
    "\n",
    "    for _ in range(500):\n",
    "        target_bar = random.sample(sorted_selected_bars, k=1)[0]\n",
    "\n",
    "        avaible_power = target_bar.power_threshold - incremented_loads[YEARS.index(2036)]\n",
    "\n",
    "        stations_amount = 0\n",
    "\n",
    "        while avaible_power >= 0:\n",
    "            # By subtracting the station power from the avaible power, it is included in the \n",
    "            avaible_power -= get_random_sum(loads= possible_load_combinations, iterations= 1)\n",
    "\n",
    "            # While avaible power is non-negative, a station can be stored \n",
    "            stations_amount += 1\n",
    "\n",
    "            if avaible_power >= 0:\n",
    "                non_negative_power = avaible_power\n",
    "                non_negative_amount = stations_amount\n",
    "        \n",
    "        housing_capacity_list.append(non_negative_amount)\n",
    "\n",
    "        housing_capacity_dict[year] = housing_capacity_list\n",
    "\n",
    "for year in YEARS:\n",
    "    print(year, len(housing_capacity_dict[year]), sorted(housing_capacity_dict[year]))"
   ]
  },
  {
   "cell_type": "code",
   "execution_count": 9,
   "metadata": {},
   "outputs": [
    {
     "data": {
      "application/vnd.plotly.v1+json": {
       "config": {
        "plotlyServerURL": "https://plot.ly"
       },
       "data": [
        {
         "coloraxis": "coloraxis",
         "hovertemplate": "Year: %{x}<br>Bars: %{y}<br>Avg Value: %{z}<extra></extra>",
         "name": "0",
         "type": "heatmap",
         "x": [
          2026,
          2028,
          2030,
          2032,
          2034,
          2036
         ],
         "xaxis": "x",
         "y": [
          "AMAZON-AM138",
          "AMBEV--AM069",
          "APAREC-AM069",
          "CACHO1-AM069",
          "CACHO2-AM069",
          "CENTRO-AM138",
          "CESPEC-AM069",
          "CGRAND-AM138",
          "CIDNOV-AM069",
          "COMPEN-AM138",
          "CONSE1-AM069",
          "CONSE2-AM069",
          "DI-4---AM138",
          "DISTR1-AM069",
          "DISTR2-AM069",
          "DISTR3-AM138",
          "FLORES-AM069",
          "IRANDU-AM069",
          "IRANDU-AM138",
          "J.TEIX-AM138",
          "JARAQ2-AM138",
          "LECHUG-AM138",
          "MANA1A-AM069",
          "MANACA-AM069",
          "MANAU2-AM069",
          "MARAPA-AM069",
          "MAUA-3-AM069",
          "MAUA-3-AM138",
          "MAUA2M-AM069",
          "MAUAB1-AM069",
          "MAUAB2-AM069",
          "MUBL4D-AM069",
          "MUBL4M-AM069",
          "MUTIRA-AM138",
          "P.FIG1-AM069",
          "P.FIG2-AM069",
          "PARQ10-AM138",
          "PIEPNG-AM069",
          "PISMAE-AM069",
          "PLACIB-AM069",
          "PNEGRA-AM069",
          "REDENC-AM069",
          "RIOPTE-AM138",
          "SERING-AM069",
          "SHOPMA-AM069",
          "SIVAM--AM069",
          "SJOSE--AM069",
          "STOANT-AM069",
          "TAMBAQ-AM069"
         ],
         "yaxis": "y",
         "z": [
          [
           4299,
           3883,
           3609,
           3265,
           3003,
           2506
          ],
          [
           4131,
           3904,
           3569,
           3330,
           2878,
           2585
          ],
          [
           4225,
           3881,
           3630,
           3275,
           2932,
           2543
          ],
          [
           4234,
           3874,
           3609,
           3283,
           2878,
           2502
          ],
          [
           4234,
           3844,
           3556,
           3211,
           2850,
           2691
          ],
          [
           4203,
           3969,
           3579,
           3284,
           2891,
           2538
          ],
          [
           4205,
           3842,
           3626,
           3336,
           2896,
           2594
          ],
          [
           4180,
           3931,
           3659,
           3330,
           2919,
           2597
          ],
          [
           4176,
           3990,
           3595,
           3312,
           2919,
           2570
          ],
          [
           4096,
           3858,
           3590,
           3299,
           2950,
           2536
          ],
          [
           4227,
           3865,
           3637,
           3160,
           2959,
           2598
          ],
          [
           4187,
           3890,
           3535,
           3284,
           2907,
           2548
          ],
          [
           4220,
           3921,
           3588,
           3258,
           2952,
           2488
          ],
          [
           4183,
           3903,
           3621,
           3262,
           2956,
           2516
          ],
          [
           4253,
           3873,
           3530,
           3317,
           2936,
           2498
          ],
          [
           4226,
           3963,
           3551,
           3317,
           2944,
           2511
          ],
          [
           4175,
           3850,
           3605,
           3336,
           2930,
           2541
          ],
          [
           4096,
           3869,
           3564,
           3396,
           2973,
           2578
          ],
          [
           4125,
           3866,
           3624,
           3348,
           2900,
           2544
          ],
          [
           4201,
           3892,
           3577,
           3207,
           2902,
           2475
          ],
          [
           4132,
           3913,
           3651,
           3230,
           2914,
           2545
          ],
          [
           4120,
           3949,
           3574,
           3324,
           2920,
           2424
          ],
          [
           4200,
           3912,
           3552,
           3227,
           2965,
           2515
          ],
          [
           4174,
           3877,
           3649,
           3234,
           2937,
           2548
          ],
          [
           4083,
           3872,
           3621,
           3235,
           2933,
           2584
          ],
          [
           4146,
           3918,
           3556,
           3248,
           2966,
           2529
          ],
          [
           4202,
           3810,
           3531,
           3222,
           2958,
           2509
          ],
          [
           4210,
           3885,
           3595,
           3270,
           2875,
           2538
          ],
          [
           4197,
           3898,
           3581,
           3315,
           2938,
           2595
          ],
          [
           4206,
           3917,
           3566,
           3295,
           2904,
           2484
          ],
          [
           4116,
           3897,
           3641,
           3262,
           2908,
           2575
          ],
          [
           4159,
           3918,
           3681,
           3308,
           2898,
           2596
          ],
          [
           4242,
           3921,
           3528,
           3261,
           2905,
           2521
          ],
          [
           4212,
           3891,
           3612,
           3265,
           2939,
           2585
          ],
          [
           4190,
           3855,
           3540,
           3317,
           2880,
           2454
          ],
          [
           4147,
           3945,
           3603,
           3278,
           2904,
           2587
          ],
          [
           4215,
           3877,
           3555,
           3256,
           2929,
           2528
          ],
          [
           4129,
           3952,
           3639,
           3323,
           2894,
           2584
          ],
          [
           4171,
           3935,
           3553,
           3256,
           2956,
           2529
          ],
          [
           4208,
           3903,
           3603,
           3231,
           2971,
           2443
          ],
          [
           4122,
           3893,
           3587,
           3313,
           2943,
           2583
          ],
          [
           4162,
           3899,
           3574,
           3284,
           2963,
           2662
          ],
          [
           4159,
           3898,
           3586,
           3272,
           2978,
           2554
          ],
          [
           4236,
           3908,
           3653,
           3281,
           2969,
           2550
          ],
          [
           4274,
           3843,
           3633,
           3284,
           2963,
           2489
          ],
          [
           4211,
           3904,
           3644,
           3186,
           2871,
           2574
          ],
          [
           4166,
           3799,
           3640,
           3272,
           2984,
           2589
          ],
          [
           4200,
           3865,
           3562,
           3304,
           2942,
           2544
          ],
          [
           4174,
           3911,
           3493,
           3345,
           2875,
           2536
          ]
         ]
        }
       ],
       "layout": {
        "annotations": [
         {
          "align": "center",
          "font": {
           "color": "white"
          },
          "showarrow": false,
          "text": "6167<br>707",
          "x": 2026,
          "y": 0
         },
         {
          "align": "center",
          "font": {
           "color": "white"
          },
          "showarrow": false,
          "text": "6167<br>707",
          "x": 2026,
          "y": 1
         },
         {
          "align": "center",
          "font": {
           "color": "white"
          },
          "showarrow": false,
          "text": "6167<br>707",
          "x": 2026,
          "y": 2
         },
         {
          "align": "center",
          "font": {
           "color": "white"
          },
          "showarrow": false,
          "text": "6167<br>707",
          "x": 2026,
          "y": 3
         },
         {
          "align": "center",
          "font": {
           "color": "white"
          },
          "showarrow": false,
          "text": "6167<br>707",
          "x": 2026,
          "y": 4
         },
         {
          "align": "center",
          "font": {
           "color": "white"
          },
          "showarrow": false,
          "text": "6167<br>707",
          "x": 2026,
          "y": 5
         },
         {
          "align": "center",
          "font": {
           "color": "white"
          },
          "showarrow": false,
          "text": "6167<br>707",
          "x": 2026,
          "y": 6
         },
         {
          "align": "center",
          "font": {
           "color": "white"
          },
          "showarrow": false,
          "text": "6167<br>707",
          "x": 2026,
          "y": 7
         },
         {
          "align": "center",
          "font": {
           "color": "white"
          },
          "showarrow": false,
          "text": "6167<br>707",
          "x": 2026,
          "y": 8
         },
         {
          "align": "center",
          "font": {
           "color": "white"
          },
          "showarrow": false,
          "text": "6167<br>707",
          "x": 2026,
          "y": 9
         },
         {
          "align": "center",
          "font": {
           "color": "white"
          },
          "showarrow": false,
          "text": "6167<br>707",
          "x": 2026,
          "y": 10
         },
         {
          "align": "center",
          "font": {
           "color": "white"
          },
          "showarrow": false,
          "text": "6167<br>707",
          "x": 2026,
          "y": 11
         },
         {
          "align": "center",
          "font": {
           "color": "white"
          },
          "showarrow": false,
          "text": "6167<br>707",
          "x": 2026,
          "y": 12
         },
         {
          "align": "center",
          "font": {
           "color": "white"
          },
          "showarrow": false,
          "text": "6167<br>707",
          "x": 2026,
          "y": 13
         },
         {
          "align": "center",
          "font": {
           "color": "white"
          },
          "showarrow": false,
          "text": "6167<br>707",
          "x": 2026,
          "y": 14
         },
         {
          "align": "center",
          "font": {
           "color": "white"
          },
          "showarrow": false,
          "text": "6167<br>707",
          "x": 2026,
          "y": 15
         },
         {
          "align": "center",
          "font": {
           "color": "white"
          },
          "showarrow": false,
          "text": "6167<br>707",
          "x": 2026,
          "y": 16
         },
         {
          "align": "center",
          "font": {
           "color": "white"
          },
          "showarrow": false,
          "text": "6167<br>707",
          "x": 2026,
          "y": 17
         },
         {
          "align": "center",
          "font": {
           "color": "white"
          },
          "showarrow": false,
          "text": "6167<br>707",
          "x": 2026,
          "y": 18
         },
         {
          "align": "center",
          "font": {
           "color": "white"
          },
          "showarrow": false,
          "text": "6167<br>707",
          "x": 2026,
          "y": 19
         },
         {
          "align": "center",
          "font": {
           "color": "white"
          },
          "showarrow": false,
          "text": "6167<br>707",
          "x": 2026,
          "y": 20
         },
         {
          "align": "center",
          "font": {
           "color": "white"
          },
          "showarrow": false,
          "text": "6167<br>707",
          "x": 2026,
          "y": 21
         },
         {
          "align": "center",
          "font": {
           "color": "white"
          },
          "showarrow": false,
          "text": "6167<br>707",
          "x": 2026,
          "y": 22
         },
         {
          "align": "center",
          "font": {
           "color": "white"
          },
          "showarrow": false,
          "text": "6167<br>707",
          "x": 2026,
          "y": 23
         },
         {
          "align": "center",
          "font": {
           "color": "white"
          },
          "showarrow": false,
          "text": "6167<br>707",
          "x": 2026,
          "y": 24
         },
         {
          "align": "center",
          "font": {
           "color": "white"
          },
          "showarrow": false,
          "text": "6167<br>707",
          "x": 2026,
          "y": 25
         },
         {
          "align": "center",
          "font": {
           "color": "white"
          },
          "showarrow": false,
          "text": "6167<br>707",
          "x": 2026,
          "y": 26
         },
         {
          "align": "center",
          "font": {
           "color": "white"
          },
          "showarrow": false,
          "text": "6167<br>707",
          "x": 2026,
          "y": 27
         },
         {
          "align": "center",
          "font": {
           "color": "white"
          },
          "showarrow": false,
          "text": "6167<br>707",
          "x": 2026,
          "y": 28
         },
         {
          "align": "center",
          "font": {
           "color": "white"
          },
          "showarrow": false,
          "text": "6167<br>707",
          "x": 2026,
          "y": 29
         },
         {
          "align": "center",
          "font": {
           "color": "white"
          },
          "showarrow": false,
          "text": "6167<br>707",
          "x": 2026,
          "y": 30
         },
         {
          "align": "center",
          "font": {
           "color": "white"
          },
          "showarrow": false,
          "text": "6167<br>707",
          "x": 2026,
          "y": 31
         },
         {
          "align": "center",
          "font": {
           "color": "white"
          },
          "showarrow": false,
          "text": "6167<br>707",
          "x": 2026,
          "y": 32
         },
         {
          "align": "center",
          "font": {
           "color": "white"
          },
          "showarrow": false,
          "text": "6167<br>707",
          "x": 2026,
          "y": 33
         },
         {
          "align": "center",
          "font": {
           "color": "white"
          },
          "showarrow": false,
          "text": "6167<br>707",
          "x": 2026,
          "y": 34
         },
         {
          "align": "center",
          "font": {
           "color": "white"
          },
          "showarrow": false,
          "text": "6167<br>707",
          "x": 2026,
          "y": 35
         },
         {
          "align": "center",
          "font": {
           "color": "white"
          },
          "showarrow": false,
          "text": "6167<br>707",
          "x": 2026,
          "y": 36
         },
         {
          "align": "center",
          "font": {
           "color": "white"
          },
          "showarrow": false,
          "text": "6167<br>707",
          "x": 2026,
          "y": 37
         },
         {
          "align": "center",
          "font": {
           "color": "white"
          },
          "showarrow": false,
          "text": "6167<br>707",
          "x": 2026,
          "y": 38
         },
         {
          "align": "center",
          "font": {
           "color": "white"
          },
          "showarrow": false,
          "text": "6167<br>707",
          "x": 2026,
          "y": 39
         },
         {
          "align": "center",
          "font": {
           "color": "white"
          },
          "showarrow": false,
          "text": "6167<br>707",
          "x": 2026,
          "y": 40
         },
         {
          "align": "center",
          "font": {
           "color": "white"
          },
          "showarrow": false,
          "text": "6167<br>707",
          "x": 2026,
          "y": 41
         },
         {
          "align": "center",
          "font": {
           "color": "white"
          },
          "showarrow": false,
          "text": "6167<br>707",
          "x": 2026,
          "y": 42
         },
         {
          "align": "center",
          "font": {
           "color": "white"
          },
          "showarrow": false,
          "text": "6167<br>707",
          "x": 2026,
          "y": 43
         },
         {
          "align": "center",
          "font": {
           "color": "white"
          },
          "showarrow": false,
          "text": "6167<br>707",
          "x": 2026,
          "y": 44
         },
         {
          "align": "center",
          "font": {
           "color": "white"
          },
          "showarrow": false,
          "text": "6167<br>707",
          "x": 2026,
          "y": 45
         },
         {
          "align": "center",
          "font": {
           "color": "white"
          },
          "showarrow": false,
          "text": "6167<br>707",
          "x": 2026,
          "y": 46
         },
         {
          "align": "center",
          "font": {
           "color": "white"
          },
          "showarrow": false,
          "text": "6167<br>707",
          "x": 2026,
          "y": 47
         },
         {
          "align": "center",
          "font": {
           "color": "white"
          },
          "showarrow": false,
          "text": "6167<br>707",
          "x": 2026,
          "y": 48
         },
         {
          "align": "center",
          "font": {
           "color": "white"
          },
          "showarrow": false,
          "text": "5861<br>457",
          "x": 2028,
          "y": 0
         },
         {
          "align": "center",
          "font": {
           "color": "white"
          },
          "showarrow": false,
          "text": "5861<br>457",
          "x": 2028,
          "y": 1
         },
         {
          "align": "center",
          "font": {
           "color": "white"
          },
          "showarrow": false,
          "text": "5861<br>457",
          "x": 2028,
          "y": 2
         },
         {
          "align": "center",
          "font": {
           "color": "white"
          },
          "showarrow": false,
          "text": "5861<br>457",
          "x": 2028,
          "y": 3
         },
         {
          "align": "center",
          "font": {
           "color": "white"
          },
          "showarrow": false,
          "text": "5861<br>457",
          "x": 2028,
          "y": 4
         },
         {
          "align": "center",
          "font": {
           "color": "white"
          },
          "showarrow": false,
          "text": "5861<br>457",
          "x": 2028,
          "y": 5
         },
         {
          "align": "center",
          "font": {
           "color": "white"
          },
          "showarrow": false,
          "text": "5861<br>457",
          "x": 2028,
          "y": 6
         },
         {
          "align": "center",
          "font": {
           "color": "white"
          },
          "showarrow": false,
          "text": "5861<br>457",
          "x": 2028,
          "y": 7
         },
         {
          "align": "center",
          "font": {
           "color": "white"
          },
          "showarrow": false,
          "text": "5861<br>457",
          "x": 2028,
          "y": 8
         },
         {
          "align": "center",
          "font": {
           "color": "white"
          },
          "showarrow": false,
          "text": "5861<br>457",
          "x": 2028,
          "y": 9
         },
         {
          "align": "center",
          "font": {
           "color": "white"
          },
          "showarrow": false,
          "text": "5861<br>457",
          "x": 2028,
          "y": 10
         },
         {
          "align": "center",
          "font": {
           "color": "white"
          },
          "showarrow": false,
          "text": "5861<br>457",
          "x": 2028,
          "y": 11
         },
         {
          "align": "center",
          "font": {
           "color": "white"
          },
          "showarrow": false,
          "text": "5861<br>457",
          "x": 2028,
          "y": 12
         },
         {
          "align": "center",
          "font": {
           "color": "white"
          },
          "showarrow": false,
          "text": "5861<br>457",
          "x": 2028,
          "y": 13
         },
         {
          "align": "center",
          "font": {
           "color": "white"
          },
          "showarrow": false,
          "text": "5861<br>457",
          "x": 2028,
          "y": 14
         },
         {
          "align": "center",
          "font": {
           "color": "white"
          },
          "showarrow": false,
          "text": "5861<br>457",
          "x": 2028,
          "y": 15
         },
         {
          "align": "center",
          "font": {
           "color": "white"
          },
          "showarrow": false,
          "text": "5861<br>457",
          "x": 2028,
          "y": 16
         },
         {
          "align": "center",
          "font": {
           "color": "white"
          },
          "showarrow": false,
          "text": "5861<br>457",
          "x": 2028,
          "y": 17
         },
         {
          "align": "center",
          "font": {
           "color": "white"
          },
          "showarrow": false,
          "text": "5861<br>457",
          "x": 2028,
          "y": 18
         },
         {
          "align": "center",
          "font": {
           "color": "white"
          },
          "showarrow": false,
          "text": "5861<br>457",
          "x": 2028,
          "y": 19
         },
         {
          "align": "center",
          "font": {
           "color": "white"
          },
          "showarrow": false,
          "text": "5861<br>457",
          "x": 2028,
          "y": 20
         },
         {
          "align": "center",
          "font": {
           "color": "white"
          },
          "showarrow": false,
          "text": "5861<br>457",
          "x": 2028,
          "y": 21
         },
         {
          "align": "center",
          "font": {
           "color": "white"
          },
          "showarrow": false,
          "text": "5861<br>457",
          "x": 2028,
          "y": 22
         },
         {
          "align": "center",
          "font": {
           "color": "white"
          },
          "showarrow": false,
          "text": "5861<br>457",
          "x": 2028,
          "y": 23
         },
         {
          "align": "center",
          "font": {
           "color": "white"
          },
          "showarrow": false,
          "text": "5861<br>457",
          "x": 2028,
          "y": 24
         },
         {
          "align": "center",
          "font": {
           "color": "white"
          },
          "showarrow": false,
          "text": "5861<br>457",
          "x": 2028,
          "y": 25
         },
         {
          "align": "center",
          "font": {
           "color": "white"
          },
          "showarrow": false,
          "text": "5861<br>457",
          "x": 2028,
          "y": 26
         },
         {
          "align": "center",
          "font": {
           "color": "white"
          },
          "showarrow": false,
          "text": "5861<br>457",
          "x": 2028,
          "y": 27
         },
         {
          "align": "center",
          "font": {
           "color": "white"
          },
          "showarrow": false,
          "text": "5861<br>457",
          "x": 2028,
          "y": 28
         },
         {
          "align": "center",
          "font": {
           "color": "white"
          },
          "showarrow": false,
          "text": "5861<br>457",
          "x": 2028,
          "y": 29
         },
         {
          "align": "center",
          "font": {
           "color": "white"
          },
          "showarrow": false,
          "text": "5861<br>457",
          "x": 2028,
          "y": 30
         },
         {
          "align": "center",
          "font": {
           "color": "white"
          },
          "showarrow": false,
          "text": "5861<br>457",
          "x": 2028,
          "y": 31
         },
         {
          "align": "center",
          "font": {
           "color": "white"
          },
          "showarrow": false,
          "text": "5861<br>457",
          "x": 2028,
          "y": 32
         },
         {
          "align": "center",
          "font": {
           "color": "white"
          },
          "showarrow": false,
          "text": "5861<br>457",
          "x": 2028,
          "y": 33
         },
         {
          "align": "center",
          "font": {
           "color": "white"
          },
          "showarrow": false,
          "text": "5861<br>457",
          "x": 2028,
          "y": 34
         },
         {
          "align": "center",
          "font": {
           "color": "white"
          },
          "showarrow": false,
          "text": "5861<br>457",
          "x": 2028,
          "y": 35
         },
         {
          "align": "center",
          "font": {
           "color": "white"
          },
          "showarrow": false,
          "text": "5861<br>457",
          "x": 2028,
          "y": 36
         },
         {
          "align": "center",
          "font": {
           "color": "white"
          },
          "showarrow": false,
          "text": "5861<br>457",
          "x": 2028,
          "y": 37
         },
         {
          "align": "center",
          "font": {
           "color": "white"
          },
          "showarrow": false,
          "text": "5861<br>457",
          "x": 2028,
          "y": 38
         },
         {
          "align": "center",
          "font": {
           "color": "white"
          },
          "showarrow": false,
          "text": "5861<br>457",
          "x": 2028,
          "y": 39
         },
         {
          "align": "center",
          "font": {
           "color": "white"
          },
          "showarrow": false,
          "text": "5861<br>457",
          "x": 2028,
          "y": 40
         },
         {
          "align": "center",
          "font": {
           "color": "white"
          },
          "showarrow": false,
          "text": "5861<br>457",
          "x": 2028,
          "y": 41
         },
         {
          "align": "center",
          "font": {
           "color": "white"
          },
          "showarrow": false,
          "text": "5861<br>457",
          "x": 2028,
          "y": 42
         },
         {
          "align": "center",
          "font": {
           "color": "white"
          },
          "showarrow": false,
          "text": "5861<br>457",
          "x": 2028,
          "y": 43
         },
         {
          "align": "center",
          "font": {
           "color": "white"
          },
          "showarrow": false,
          "text": "5861<br>457",
          "x": 2028,
          "y": 44
         },
         {
          "align": "center",
          "font": {
           "color": "white"
          },
          "showarrow": false,
          "text": "5861<br>457",
          "x": 2028,
          "y": 45
         },
         {
          "align": "center",
          "font": {
           "color": "white"
          },
          "showarrow": false,
          "text": "5861<br>457",
          "x": 2028,
          "y": 46
         },
         {
          "align": "center",
          "font": {
           "color": "white"
          },
          "showarrow": false,
          "text": "5861<br>457",
          "x": 2028,
          "y": 47
         },
         {
          "align": "center",
          "font": {
           "color": "white"
          },
          "showarrow": false,
          "text": "5861<br>457",
          "x": 2028,
          "y": 48
         },
         {
          "align": "center",
          "font": {
           "color": "white"
          },
          "showarrow": false,
          "text": "5531<br>187",
          "x": 2030,
          "y": 0
         },
         {
          "align": "center",
          "font": {
           "color": "white"
          },
          "showarrow": false,
          "text": "5531<br>187",
          "x": 2030,
          "y": 1
         },
         {
          "align": "center",
          "font": {
           "color": "white"
          },
          "showarrow": false,
          "text": "5531<br>187",
          "x": 2030,
          "y": 2
         },
         {
          "align": "center",
          "font": {
           "color": "white"
          },
          "showarrow": false,
          "text": "5531<br>187",
          "x": 2030,
          "y": 3
         },
         {
          "align": "center",
          "font": {
           "color": "white"
          },
          "showarrow": false,
          "text": "5531<br>187",
          "x": 2030,
          "y": 4
         },
         {
          "align": "center",
          "font": {
           "color": "white"
          },
          "showarrow": false,
          "text": "5531<br>187",
          "x": 2030,
          "y": 5
         },
         {
          "align": "center",
          "font": {
           "color": "white"
          },
          "showarrow": false,
          "text": "5531<br>187",
          "x": 2030,
          "y": 6
         },
         {
          "align": "center",
          "font": {
           "color": "white"
          },
          "showarrow": false,
          "text": "5531<br>187",
          "x": 2030,
          "y": 7
         },
         {
          "align": "center",
          "font": {
           "color": "white"
          },
          "showarrow": false,
          "text": "5531<br>187",
          "x": 2030,
          "y": 8
         },
         {
          "align": "center",
          "font": {
           "color": "white"
          },
          "showarrow": false,
          "text": "5531<br>187",
          "x": 2030,
          "y": 9
         },
         {
          "align": "center",
          "font": {
           "color": "white"
          },
          "showarrow": false,
          "text": "5531<br>187",
          "x": 2030,
          "y": 10
         },
         {
          "align": "center",
          "font": {
           "color": "white"
          },
          "showarrow": false,
          "text": "5531<br>187",
          "x": 2030,
          "y": 11
         },
         {
          "align": "center",
          "font": {
           "color": "white"
          },
          "showarrow": false,
          "text": "5531<br>187",
          "x": 2030,
          "y": 12
         },
         {
          "align": "center",
          "font": {
           "color": "white"
          },
          "showarrow": false,
          "text": "5531<br>187",
          "x": 2030,
          "y": 13
         },
         {
          "align": "center",
          "font": {
           "color": "white"
          },
          "showarrow": false,
          "text": "5531<br>187",
          "x": 2030,
          "y": 14
         },
         {
          "align": "center",
          "font": {
           "color": "white"
          },
          "showarrow": false,
          "text": "5531<br>187",
          "x": 2030,
          "y": 15
         },
         {
          "align": "center",
          "font": {
           "color": "white"
          },
          "showarrow": false,
          "text": "5531<br>187",
          "x": 2030,
          "y": 16
         },
         {
          "align": "center",
          "font": {
           "color": "white"
          },
          "showarrow": false,
          "text": "5531<br>187",
          "x": 2030,
          "y": 17
         },
         {
          "align": "center",
          "font": {
           "color": "white"
          },
          "showarrow": false,
          "text": "5531<br>187",
          "x": 2030,
          "y": 18
         },
         {
          "align": "center",
          "font": {
           "color": "white"
          },
          "showarrow": false,
          "text": "5531<br>187",
          "x": 2030,
          "y": 19
         },
         {
          "align": "center",
          "font": {
           "color": "white"
          },
          "showarrow": false,
          "text": "5531<br>187",
          "x": 2030,
          "y": 20
         },
         {
          "align": "center",
          "font": {
           "color": "white"
          },
          "showarrow": false,
          "text": "5531<br>187",
          "x": 2030,
          "y": 21
         },
         {
          "align": "center",
          "font": {
           "color": "white"
          },
          "showarrow": false,
          "text": "5531<br>187",
          "x": 2030,
          "y": 22
         },
         {
          "align": "center",
          "font": {
           "color": "white"
          },
          "showarrow": false,
          "text": "5531<br>187",
          "x": 2030,
          "y": 23
         },
         {
          "align": "center",
          "font": {
           "color": "white"
          },
          "showarrow": false,
          "text": "5531<br>187",
          "x": 2030,
          "y": 24
         },
         {
          "align": "center",
          "font": {
           "color": "white"
          },
          "showarrow": false,
          "text": "5531<br>187",
          "x": 2030,
          "y": 25
         },
         {
          "align": "center",
          "font": {
           "color": "white"
          },
          "showarrow": false,
          "text": "5531<br>187",
          "x": 2030,
          "y": 26
         },
         {
          "align": "center",
          "font": {
           "color": "white"
          },
          "showarrow": false,
          "text": "5531<br>187",
          "x": 2030,
          "y": 27
         },
         {
          "align": "center",
          "font": {
           "color": "white"
          },
          "showarrow": false,
          "text": "5531<br>187",
          "x": 2030,
          "y": 28
         },
         {
          "align": "center",
          "font": {
           "color": "white"
          },
          "showarrow": false,
          "text": "5531<br>187",
          "x": 2030,
          "y": 29
         },
         {
          "align": "center",
          "font": {
           "color": "white"
          },
          "showarrow": false,
          "text": "5531<br>187",
          "x": 2030,
          "y": 30
         },
         {
          "align": "center",
          "font": {
           "color": "white"
          },
          "showarrow": false,
          "text": "5531<br>187",
          "x": 2030,
          "y": 31
         },
         {
          "align": "center",
          "font": {
           "color": "white"
          },
          "showarrow": false,
          "text": "5531<br>187",
          "x": 2030,
          "y": 32
         },
         {
          "align": "center",
          "font": {
           "color": "white"
          },
          "showarrow": false,
          "text": "5531<br>187",
          "x": 2030,
          "y": 33
         },
         {
          "align": "center",
          "font": {
           "color": "white"
          },
          "showarrow": false,
          "text": "5531<br>187",
          "x": 2030,
          "y": 34
         },
         {
          "align": "center",
          "font": {
           "color": "white"
          },
          "showarrow": false,
          "text": "5531<br>187",
          "x": 2030,
          "y": 35
         },
         {
          "align": "center",
          "font": {
           "color": "white"
          },
          "showarrow": false,
          "text": "5531<br>187",
          "x": 2030,
          "y": 36
         },
         {
          "align": "center",
          "font": {
           "color": "white"
          },
          "showarrow": false,
          "text": "5531<br>187",
          "x": 2030,
          "y": 37
         },
         {
          "align": "center",
          "font": {
           "color": "white"
          },
          "showarrow": false,
          "text": "5531<br>187",
          "x": 2030,
          "y": 38
         },
         {
          "align": "center",
          "font": {
           "color": "white"
          },
          "showarrow": false,
          "text": "5531<br>187",
          "x": 2030,
          "y": 39
         },
         {
          "align": "center",
          "font": {
           "color": "white"
          },
          "showarrow": false,
          "text": "5531<br>187",
          "x": 2030,
          "y": 40
         },
         {
          "align": "center",
          "font": {
           "color": "white"
          },
          "showarrow": false,
          "text": "5531<br>187",
          "x": 2030,
          "y": 41
         },
         {
          "align": "center",
          "font": {
           "color": "white"
          },
          "showarrow": false,
          "text": "5531<br>187",
          "x": 2030,
          "y": 42
         },
         {
          "align": "center",
          "font": {
           "color": "white"
          },
          "showarrow": false,
          "text": "5531<br>187",
          "x": 2030,
          "y": 43
         },
         {
          "align": "center",
          "font": {
           "color": "white"
          },
          "showarrow": false,
          "text": "5531<br>187",
          "x": 2030,
          "y": 44
         },
         {
          "align": "center",
          "font": {
           "color": "white"
          },
          "showarrow": false,
          "text": "5531<br>187",
          "x": 2030,
          "y": 45
         },
         {
          "align": "center",
          "font": {
           "color": "white"
          },
          "showarrow": false,
          "text": "5531<br>187",
          "x": 2030,
          "y": 46
         },
         {
          "align": "center",
          "font": {
           "color": "white"
          },
          "showarrow": false,
          "text": "5531<br>187",
          "x": 2030,
          "y": 47
         },
         {
          "align": "center",
          "font": {
           "color": "white"
          },
          "showarrow": false,
          "text": "5531<br>187",
          "x": 2030,
          "y": 48
         },
         {
          "align": "center",
          "font": {
           "color": "white"
          },
          "showarrow": false,
          "text": "5173<br>-128",
          "x": 2032,
          "y": 0
         },
         {
          "align": "center",
          "font": {
           "color": "white"
          },
          "showarrow": false,
          "text": "5173<br>-128",
          "x": 2032,
          "y": 1
         },
         {
          "align": "center",
          "font": {
           "color": "white"
          },
          "showarrow": false,
          "text": "5173<br>-128",
          "x": 2032,
          "y": 2
         },
         {
          "align": "center",
          "font": {
           "color": "white"
          },
          "showarrow": false,
          "text": "5173<br>-128",
          "x": 2032,
          "y": 3
         },
         {
          "align": "center",
          "font": {
           "color": "white"
          },
          "showarrow": false,
          "text": "5173<br>-128",
          "x": 2032,
          "y": 4
         },
         {
          "align": "center",
          "font": {
           "color": "white"
          },
          "showarrow": false,
          "text": "5173<br>-128",
          "x": 2032,
          "y": 5
         },
         {
          "align": "center",
          "font": {
           "color": "white"
          },
          "showarrow": false,
          "text": "5173<br>-128",
          "x": 2032,
          "y": 6
         },
         {
          "align": "center",
          "font": {
           "color": "white"
          },
          "showarrow": false,
          "text": "5173<br>-128",
          "x": 2032,
          "y": 7
         },
         {
          "align": "center",
          "font": {
           "color": "white"
          },
          "showarrow": false,
          "text": "5173<br>-128",
          "x": 2032,
          "y": 8
         },
         {
          "align": "center",
          "font": {
           "color": "white"
          },
          "showarrow": false,
          "text": "5173<br>-128",
          "x": 2032,
          "y": 9
         },
         {
          "align": "center",
          "font": {
           "color": "white"
          },
          "showarrow": false,
          "text": "5173<br>-128",
          "x": 2032,
          "y": 10
         },
         {
          "align": "center",
          "font": {
           "color": "white"
          },
          "showarrow": false,
          "text": "5173<br>-128",
          "x": 2032,
          "y": 11
         },
         {
          "align": "center",
          "font": {
           "color": "white"
          },
          "showarrow": false,
          "text": "5173<br>-128",
          "x": 2032,
          "y": 12
         },
         {
          "align": "center",
          "font": {
           "color": "white"
          },
          "showarrow": false,
          "text": "5173<br>-128",
          "x": 2032,
          "y": 13
         },
         {
          "align": "center",
          "font": {
           "color": "white"
          },
          "showarrow": false,
          "text": "5173<br>-128",
          "x": 2032,
          "y": 14
         },
         {
          "align": "center",
          "font": {
           "color": "white"
          },
          "showarrow": false,
          "text": "5173<br>-128",
          "x": 2032,
          "y": 15
         },
         {
          "align": "center",
          "font": {
           "color": "white"
          },
          "showarrow": false,
          "text": "5173<br>-128",
          "x": 2032,
          "y": 16
         },
         {
          "align": "center",
          "font": {
           "color": "white"
          },
          "showarrow": false,
          "text": "5173<br>-128",
          "x": 2032,
          "y": 17
         },
         {
          "align": "center",
          "font": {
           "color": "white"
          },
          "showarrow": false,
          "text": "5173<br>-128",
          "x": 2032,
          "y": 18
         },
         {
          "align": "center",
          "font": {
           "color": "white"
          },
          "showarrow": false,
          "text": "5173<br>-128",
          "x": 2032,
          "y": 19
         },
         {
          "align": "center",
          "font": {
           "color": "white"
          },
          "showarrow": false,
          "text": "5173<br>-128",
          "x": 2032,
          "y": 20
         },
         {
          "align": "center",
          "font": {
           "color": "white"
          },
          "showarrow": false,
          "text": "5173<br>-128",
          "x": 2032,
          "y": 21
         },
         {
          "align": "center",
          "font": {
           "color": "white"
          },
          "showarrow": false,
          "text": "5173<br>-128",
          "x": 2032,
          "y": 22
         },
         {
          "align": "center",
          "font": {
           "color": "white"
          },
          "showarrow": false,
          "text": "5173<br>-128",
          "x": 2032,
          "y": 23
         },
         {
          "align": "center",
          "font": {
           "color": "white"
          },
          "showarrow": false,
          "text": "5173<br>-128",
          "x": 2032,
          "y": 24
         },
         {
          "align": "center",
          "font": {
           "color": "white"
          },
          "showarrow": false,
          "text": "5173<br>-128",
          "x": 2032,
          "y": 25
         },
         {
          "align": "center",
          "font": {
           "color": "white"
          },
          "showarrow": false,
          "text": "5173<br>-128",
          "x": 2032,
          "y": 26
         },
         {
          "align": "center",
          "font": {
           "color": "white"
          },
          "showarrow": false,
          "text": "5173<br>-128",
          "x": 2032,
          "y": 27
         },
         {
          "align": "center",
          "font": {
           "color": "white"
          },
          "showarrow": false,
          "text": "5173<br>-128",
          "x": 2032,
          "y": 28
         },
         {
          "align": "center",
          "font": {
           "color": "white"
          },
          "showarrow": false,
          "text": "5173<br>-128",
          "x": 2032,
          "y": 29
         },
         {
          "align": "center",
          "font": {
           "color": "white"
          },
          "showarrow": false,
          "text": "5173<br>-128",
          "x": 2032,
          "y": 30
         },
         {
          "align": "center",
          "font": {
           "color": "white"
          },
          "showarrow": false,
          "text": "5173<br>-128",
          "x": 2032,
          "y": 31
         },
         {
          "align": "center",
          "font": {
           "color": "white"
          },
          "showarrow": false,
          "text": "5173<br>-128",
          "x": 2032,
          "y": 32
         },
         {
          "align": "center",
          "font": {
           "color": "white"
          },
          "showarrow": false,
          "text": "5173<br>-128",
          "x": 2032,
          "y": 33
         },
         {
          "align": "center",
          "font": {
           "color": "white"
          },
          "showarrow": false,
          "text": "5173<br>-128",
          "x": 2032,
          "y": 34
         },
         {
          "align": "center",
          "font": {
           "color": "white"
          },
          "showarrow": false,
          "text": "5173<br>-128",
          "x": 2032,
          "y": 35
         },
         {
          "align": "center",
          "font": {
           "color": "white"
          },
          "showarrow": false,
          "text": "5173<br>-128",
          "x": 2032,
          "y": 36
         },
         {
          "align": "center",
          "font": {
           "color": "white"
          },
          "showarrow": false,
          "text": "5173<br>-128",
          "x": 2032,
          "y": 37
         },
         {
          "align": "center",
          "font": {
           "color": "white"
          },
          "showarrow": false,
          "text": "5173<br>-128",
          "x": 2032,
          "y": 38
         },
         {
          "align": "center",
          "font": {
           "color": "white"
          },
          "showarrow": false,
          "text": "5173<br>-128",
          "x": 2032,
          "y": 39
         },
         {
          "align": "center",
          "font": {
           "color": "white"
          },
          "showarrow": false,
          "text": "5173<br>-128",
          "x": 2032,
          "y": 40
         },
         {
          "align": "center",
          "font": {
           "color": "white"
          },
          "showarrow": false,
          "text": "5173<br>-128",
          "x": 2032,
          "y": 41
         },
         {
          "align": "center",
          "font": {
           "color": "white"
          },
          "showarrow": false,
          "text": "5173<br>-128",
          "x": 2032,
          "y": 42
         },
         {
          "align": "center",
          "font": {
           "color": "white"
          },
          "showarrow": false,
          "text": "5173<br>-128",
          "x": 2032,
          "y": 43
         },
         {
          "align": "center",
          "font": {
           "color": "white"
          },
          "showarrow": false,
          "text": "5173<br>-128",
          "x": 2032,
          "y": 44
         },
         {
          "align": "center",
          "font": {
           "color": "white"
          },
          "showarrow": false,
          "text": "5173<br>-128",
          "x": 2032,
          "y": 45
         },
         {
          "align": "center",
          "font": {
           "color": "white"
          },
          "showarrow": false,
          "text": "5173<br>-128",
          "x": 2032,
          "y": 46
         },
         {
          "align": "center",
          "font": {
           "color": "white"
          },
          "showarrow": false,
          "text": "5173<br>-128",
          "x": 2032,
          "y": 47
         },
         {
          "align": "center",
          "font": {
           "color": "white"
          },
          "showarrow": false,
          "text": "5173<br>-128",
          "x": 2032,
          "y": 48
         },
         {
          "align": "center",
          "font": {
           "color": "white"
          },
          "showarrow": false,
          "text": "4786<br>-515",
          "x": 2034,
          "y": 0
         },
         {
          "align": "center",
          "font": {
           "color": "white"
          },
          "showarrow": false,
          "text": "4786<br>-515",
          "x": 2034,
          "y": 1
         },
         {
          "align": "center",
          "font": {
           "color": "white"
          },
          "showarrow": false,
          "text": "4786<br>-515",
          "x": 2034,
          "y": 2
         },
         {
          "align": "center",
          "font": {
           "color": "white"
          },
          "showarrow": false,
          "text": "4786<br>-515",
          "x": 2034,
          "y": 3
         },
         {
          "align": "center",
          "font": {
           "color": "white"
          },
          "showarrow": false,
          "text": "4786<br>-515",
          "x": 2034,
          "y": 4
         },
         {
          "align": "center",
          "font": {
           "color": "white"
          },
          "showarrow": false,
          "text": "4786<br>-515",
          "x": 2034,
          "y": 5
         },
         {
          "align": "center",
          "font": {
           "color": "white"
          },
          "showarrow": false,
          "text": "4786<br>-515",
          "x": 2034,
          "y": 6
         },
         {
          "align": "center",
          "font": {
           "color": "white"
          },
          "showarrow": false,
          "text": "4786<br>-515",
          "x": 2034,
          "y": 7
         },
         {
          "align": "center",
          "font": {
           "color": "white"
          },
          "showarrow": false,
          "text": "4786<br>-515",
          "x": 2034,
          "y": 8
         },
         {
          "align": "center",
          "font": {
           "color": "white"
          },
          "showarrow": false,
          "text": "4786<br>-515",
          "x": 2034,
          "y": 9
         },
         {
          "align": "center",
          "font": {
           "color": "white"
          },
          "showarrow": false,
          "text": "4786<br>-515",
          "x": 2034,
          "y": 10
         },
         {
          "align": "center",
          "font": {
           "color": "white"
          },
          "showarrow": false,
          "text": "4786<br>-515",
          "x": 2034,
          "y": 11
         },
         {
          "align": "center",
          "font": {
           "color": "white"
          },
          "showarrow": false,
          "text": "4786<br>-515",
          "x": 2034,
          "y": 12
         },
         {
          "align": "center",
          "font": {
           "color": "white"
          },
          "showarrow": false,
          "text": "4786<br>-515",
          "x": 2034,
          "y": 13
         },
         {
          "align": "center",
          "font": {
           "color": "white"
          },
          "showarrow": false,
          "text": "4786<br>-515",
          "x": 2034,
          "y": 14
         },
         {
          "align": "center",
          "font": {
           "color": "white"
          },
          "showarrow": false,
          "text": "4786<br>-515",
          "x": 2034,
          "y": 15
         },
         {
          "align": "center",
          "font": {
           "color": "white"
          },
          "showarrow": false,
          "text": "4786<br>-515",
          "x": 2034,
          "y": 16
         },
         {
          "align": "center",
          "font": {
           "color": "white"
          },
          "showarrow": false,
          "text": "4786<br>-515",
          "x": 2034,
          "y": 17
         },
         {
          "align": "center",
          "font": {
           "color": "white"
          },
          "showarrow": false,
          "text": "4786<br>-515",
          "x": 2034,
          "y": 18
         },
         {
          "align": "center",
          "font": {
           "color": "white"
          },
          "showarrow": false,
          "text": "4786<br>-515",
          "x": 2034,
          "y": 19
         },
         {
          "align": "center",
          "font": {
           "color": "white"
          },
          "showarrow": false,
          "text": "4786<br>-515",
          "x": 2034,
          "y": 20
         },
         {
          "align": "center",
          "font": {
           "color": "white"
          },
          "showarrow": false,
          "text": "4786<br>-515",
          "x": 2034,
          "y": 21
         },
         {
          "align": "center",
          "font": {
           "color": "white"
          },
          "showarrow": false,
          "text": "4786<br>-515",
          "x": 2034,
          "y": 22
         },
         {
          "align": "center",
          "font": {
           "color": "white"
          },
          "showarrow": false,
          "text": "4786<br>-515",
          "x": 2034,
          "y": 23
         },
         {
          "align": "center",
          "font": {
           "color": "white"
          },
          "showarrow": false,
          "text": "4786<br>-515",
          "x": 2034,
          "y": 24
         },
         {
          "align": "center",
          "font": {
           "color": "white"
          },
          "showarrow": false,
          "text": "4786<br>-515",
          "x": 2034,
          "y": 25
         },
         {
          "align": "center",
          "font": {
           "color": "white"
          },
          "showarrow": false,
          "text": "4786<br>-515",
          "x": 2034,
          "y": 26
         },
         {
          "align": "center",
          "font": {
           "color": "white"
          },
          "showarrow": false,
          "text": "4786<br>-515",
          "x": 2034,
          "y": 27
         },
         {
          "align": "center",
          "font": {
           "color": "white"
          },
          "showarrow": false,
          "text": "4786<br>-515",
          "x": 2034,
          "y": 28
         },
         {
          "align": "center",
          "font": {
           "color": "white"
          },
          "showarrow": false,
          "text": "4786<br>-515",
          "x": 2034,
          "y": 29
         },
         {
          "align": "center",
          "font": {
           "color": "white"
          },
          "showarrow": false,
          "text": "4786<br>-515",
          "x": 2034,
          "y": 30
         },
         {
          "align": "center",
          "font": {
           "color": "white"
          },
          "showarrow": false,
          "text": "4786<br>-515",
          "x": 2034,
          "y": 31
         },
         {
          "align": "center",
          "font": {
           "color": "white"
          },
          "showarrow": false,
          "text": "4786<br>-515",
          "x": 2034,
          "y": 32
         },
         {
          "align": "center",
          "font": {
           "color": "white"
          },
          "showarrow": false,
          "text": "4786<br>-515",
          "x": 2034,
          "y": 33
         },
         {
          "align": "center",
          "font": {
           "color": "white"
          },
          "showarrow": false,
          "text": "4786<br>-515",
          "x": 2034,
          "y": 34
         },
         {
          "align": "center",
          "font": {
           "color": "white"
          },
          "showarrow": false,
          "text": "4786<br>-515",
          "x": 2034,
          "y": 35
         },
         {
          "align": "center",
          "font": {
           "color": "white"
          },
          "showarrow": false,
          "text": "4786<br>-515",
          "x": 2034,
          "y": 36
         },
         {
          "align": "center",
          "font": {
           "color": "white"
          },
          "showarrow": false,
          "text": "4786<br>-515",
          "x": 2034,
          "y": 37
         },
         {
          "align": "center",
          "font": {
           "color": "white"
          },
          "showarrow": false,
          "text": "4786<br>-515",
          "x": 2034,
          "y": 38
         },
         {
          "align": "center",
          "font": {
           "color": "white"
          },
          "showarrow": false,
          "text": "4786<br>-515",
          "x": 2034,
          "y": 39
         },
         {
          "align": "center",
          "font": {
           "color": "white"
          },
          "showarrow": false,
          "text": "4786<br>-515",
          "x": 2034,
          "y": 40
         },
         {
          "align": "center",
          "font": {
           "color": "white"
          },
          "showarrow": false,
          "text": "4786<br>-515",
          "x": 2034,
          "y": 41
         },
         {
          "align": "center",
          "font": {
           "color": "white"
          },
          "showarrow": false,
          "text": "4786<br>-515",
          "x": 2034,
          "y": 42
         },
         {
          "align": "center",
          "font": {
           "color": "white"
          },
          "showarrow": false,
          "text": "4786<br>-515",
          "x": 2034,
          "y": 43
         },
         {
          "align": "center",
          "font": {
           "color": "white"
          },
          "showarrow": false,
          "text": "4786<br>-515",
          "x": 2034,
          "y": 44
         },
         {
          "align": "center",
          "font": {
           "color": "white"
          },
          "showarrow": false,
          "text": "4786<br>-515",
          "x": 2034,
          "y": 45
         },
         {
          "align": "center",
          "font": {
           "color": "white"
          },
          "showarrow": false,
          "text": "4786<br>-515",
          "x": 2034,
          "y": 46
         },
         {
          "align": "center",
          "font": {
           "color": "white"
          },
          "showarrow": false,
          "text": "4786<br>-515",
          "x": 2034,
          "y": 47
         },
         {
          "align": "center",
          "font": {
           "color": "white"
          },
          "showarrow": false,
          "text": "4786<br>-515",
          "x": 2034,
          "y": 48
         },
         {
          "align": "center",
          "font": {
           "color": "white"
          },
          "showarrow": false,
          "text": "4368<br>-934",
          "x": 2036,
          "y": 0
         },
         {
          "align": "center",
          "font": {
           "color": "white"
          },
          "showarrow": false,
          "text": "4368<br>-934",
          "x": 2036,
          "y": 1
         },
         {
          "align": "center",
          "font": {
           "color": "white"
          },
          "showarrow": false,
          "text": "4368<br>-934",
          "x": 2036,
          "y": 2
         },
         {
          "align": "center",
          "font": {
           "color": "white"
          },
          "showarrow": false,
          "text": "4368<br>-934",
          "x": 2036,
          "y": 3
         },
         {
          "align": "center",
          "font": {
           "color": "white"
          },
          "showarrow": false,
          "text": "4368<br>-934",
          "x": 2036,
          "y": 4
         },
         {
          "align": "center",
          "font": {
           "color": "white"
          },
          "showarrow": false,
          "text": "4368<br>-934",
          "x": 2036,
          "y": 5
         },
         {
          "align": "center",
          "font": {
           "color": "white"
          },
          "showarrow": false,
          "text": "4368<br>-934",
          "x": 2036,
          "y": 6
         },
         {
          "align": "center",
          "font": {
           "color": "white"
          },
          "showarrow": false,
          "text": "4368<br>-934",
          "x": 2036,
          "y": 7
         },
         {
          "align": "center",
          "font": {
           "color": "white"
          },
          "showarrow": false,
          "text": "4368<br>-934",
          "x": 2036,
          "y": 8
         },
         {
          "align": "center",
          "font": {
           "color": "white"
          },
          "showarrow": false,
          "text": "4368<br>-934",
          "x": 2036,
          "y": 9
         },
         {
          "align": "center",
          "font": {
           "color": "white"
          },
          "showarrow": false,
          "text": "4368<br>-934",
          "x": 2036,
          "y": 10
         },
         {
          "align": "center",
          "font": {
           "color": "white"
          },
          "showarrow": false,
          "text": "4368<br>-934",
          "x": 2036,
          "y": 11
         },
         {
          "align": "center",
          "font": {
           "color": "white"
          },
          "showarrow": false,
          "text": "4368<br>-934",
          "x": 2036,
          "y": 12
         },
         {
          "align": "center",
          "font": {
           "color": "white"
          },
          "showarrow": false,
          "text": "4368<br>-934",
          "x": 2036,
          "y": 13
         },
         {
          "align": "center",
          "font": {
           "color": "white"
          },
          "showarrow": false,
          "text": "4368<br>-934",
          "x": 2036,
          "y": 14
         },
         {
          "align": "center",
          "font": {
           "color": "white"
          },
          "showarrow": false,
          "text": "4368<br>-934",
          "x": 2036,
          "y": 15
         },
         {
          "align": "center",
          "font": {
           "color": "white"
          },
          "showarrow": false,
          "text": "4368<br>-934",
          "x": 2036,
          "y": 16
         },
         {
          "align": "center",
          "font": {
           "color": "white"
          },
          "showarrow": false,
          "text": "4368<br>-934",
          "x": 2036,
          "y": 17
         },
         {
          "align": "center",
          "font": {
           "color": "white"
          },
          "showarrow": false,
          "text": "4368<br>-934",
          "x": 2036,
          "y": 18
         },
         {
          "align": "center",
          "font": {
           "color": "white"
          },
          "showarrow": false,
          "text": "4368<br>-934",
          "x": 2036,
          "y": 19
         },
         {
          "align": "center",
          "font": {
           "color": "white"
          },
          "showarrow": false,
          "text": "4368<br>-934",
          "x": 2036,
          "y": 20
         },
         {
          "align": "center",
          "font": {
           "color": "white"
          },
          "showarrow": false,
          "text": "4368<br>-934",
          "x": 2036,
          "y": 21
         },
         {
          "align": "center",
          "font": {
           "color": "white"
          },
          "showarrow": false,
          "text": "4368<br>-934",
          "x": 2036,
          "y": 22
         },
         {
          "align": "center",
          "font": {
           "color": "white"
          },
          "showarrow": false,
          "text": "4368<br>-934",
          "x": 2036,
          "y": 23
         },
         {
          "align": "center",
          "font": {
           "color": "white"
          },
          "showarrow": false,
          "text": "4368<br>-934",
          "x": 2036,
          "y": 24
         },
         {
          "align": "center",
          "font": {
           "color": "white"
          },
          "showarrow": false,
          "text": "4368<br>-934",
          "x": 2036,
          "y": 25
         },
         {
          "align": "center",
          "font": {
           "color": "white"
          },
          "showarrow": false,
          "text": "4368<br>-934",
          "x": 2036,
          "y": 26
         },
         {
          "align": "center",
          "font": {
           "color": "white"
          },
          "showarrow": false,
          "text": "4368<br>-934",
          "x": 2036,
          "y": 27
         },
         {
          "align": "center",
          "font": {
           "color": "white"
          },
          "showarrow": false,
          "text": "4368<br>-934",
          "x": 2036,
          "y": 28
         },
         {
          "align": "center",
          "font": {
           "color": "white"
          },
          "showarrow": false,
          "text": "4368<br>-934",
          "x": 2036,
          "y": 29
         },
         {
          "align": "center",
          "font": {
           "color": "white"
          },
          "showarrow": false,
          "text": "4368<br>-934",
          "x": 2036,
          "y": 30
         },
         {
          "align": "center",
          "font": {
           "color": "white"
          },
          "showarrow": false,
          "text": "4368<br>-934",
          "x": 2036,
          "y": 31
         },
         {
          "align": "center",
          "font": {
           "color": "white"
          },
          "showarrow": false,
          "text": "4368<br>-934",
          "x": 2036,
          "y": 32
         },
         {
          "align": "center",
          "font": {
           "color": "white"
          },
          "showarrow": false,
          "text": "4368<br>-934",
          "x": 2036,
          "y": 33
         },
         {
          "align": "center",
          "font": {
           "color": "white"
          },
          "showarrow": false,
          "text": "4368<br>-934",
          "x": 2036,
          "y": 34
         },
         {
          "align": "center",
          "font": {
           "color": "white"
          },
          "showarrow": false,
          "text": "4368<br>-934",
          "x": 2036,
          "y": 35
         },
         {
          "align": "center",
          "font": {
           "color": "white"
          },
          "showarrow": false,
          "text": "4368<br>-934",
          "x": 2036,
          "y": 36
         },
         {
          "align": "center",
          "font": {
           "color": "white"
          },
          "showarrow": false,
          "text": "4368<br>-934",
          "x": 2036,
          "y": 37
         },
         {
          "align": "center",
          "font": {
           "color": "white"
          },
          "showarrow": false,
          "text": "4368<br>-934",
          "x": 2036,
          "y": 38
         },
         {
          "align": "center",
          "font": {
           "color": "white"
          },
          "showarrow": false,
          "text": "4368<br>-934",
          "x": 2036,
          "y": 39
         },
         {
          "align": "center",
          "font": {
           "color": "white"
          },
          "showarrow": false,
          "text": "4368<br>-934",
          "x": 2036,
          "y": 40
         },
         {
          "align": "center",
          "font": {
           "color": "white"
          },
          "showarrow": false,
          "text": "4368<br>-934",
          "x": 2036,
          "y": 41
         },
         {
          "align": "center",
          "font": {
           "color": "white"
          },
          "showarrow": false,
          "text": "4368<br>-934",
          "x": 2036,
          "y": 42
         },
         {
          "align": "center",
          "font": {
           "color": "white"
          },
          "showarrow": false,
          "text": "4368<br>-934",
          "x": 2036,
          "y": 43
         },
         {
          "align": "center",
          "font": {
           "color": "white"
          },
          "showarrow": false,
          "text": "4368<br>-934",
          "x": 2036,
          "y": 44
         },
         {
          "align": "center",
          "font": {
           "color": "white"
          },
          "showarrow": false,
          "text": "4368<br>-934",
          "x": 2036,
          "y": 45
         },
         {
          "align": "center",
          "font": {
           "color": "white"
          },
          "showarrow": false,
          "text": "4368<br>-934",
          "x": 2036,
          "y": 46
         },
         {
          "align": "center",
          "font": {
           "color": "white"
          },
          "showarrow": false,
          "text": "4368<br>-934",
          "x": 2036,
          "y": 47
         },
         {
          "align": "center",
          "font": {
           "color": "white"
          },
          "showarrow": false,
          "text": "4368<br>-934",
          "x": 2036,
          "y": 48
         }
        ],
        "coloraxis": {
         "colorbar": {
          "title": {
           "text": "Avg Value"
          }
         },
         "colorscale": [
          [
           0,
           "rgb(12,51,131)"
          ],
          [
           0.25,
           "rgb(10,136,186)"
          ],
          [
           0.5,
           "rgb(242,211,56)"
          ],
          [
           0.75,
           "rgb(242,143,56)"
          ],
          [
           1,
           "rgb(217,30,30)"
          ]
         ]
        },
        "height": 2400,
        "margin": {
         "t": 60
        },
        "template": {
         "data": {
          "bar": [
           {
            "error_x": {
             "color": "#2a3f5f"
            },
            "error_y": {
             "color": "#2a3f5f"
            },
            "marker": {
             "line": {
              "color": "#E5ECF6",
              "width": 0.5
             },
             "pattern": {
              "fillmode": "overlay",
              "size": 10,
              "solidity": 0.2
             }
            },
            "type": "bar"
           }
          ],
          "barpolar": [
           {
            "marker": {
             "line": {
              "color": "#E5ECF6",
              "width": 0.5
             },
             "pattern": {
              "fillmode": "overlay",
              "size": 10,
              "solidity": 0.2
             }
            },
            "type": "barpolar"
           }
          ],
          "carpet": [
           {
            "aaxis": {
             "endlinecolor": "#2a3f5f",
             "gridcolor": "white",
             "linecolor": "white",
             "minorgridcolor": "white",
             "startlinecolor": "#2a3f5f"
            },
            "baxis": {
             "endlinecolor": "#2a3f5f",
             "gridcolor": "white",
             "linecolor": "white",
             "minorgridcolor": "white",
             "startlinecolor": "#2a3f5f"
            },
            "type": "carpet"
           }
          ],
          "choropleth": [
           {
            "colorbar": {
             "outlinewidth": 0,
             "ticks": ""
            },
            "type": "choropleth"
           }
          ],
          "contour": [
           {
            "colorbar": {
             "outlinewidth": 0,
             "ticks": ""
            },
            "colorscale": [
             [
              0,
              "#0d0887"
             ],
             [
              0.1111111111111111,
              "#46039f"
             ],
             [
              0.2222222222222222,
              "#7201a8"
             ],
             [
              0.3333333333333333,
              "#9c179e"
             ],
             [
              0.4444444444444444,
              "#bd3786"
             ],
             [
              0.5555555555555556,
              "#d8576b"
             ],
             [
              0.6666666666666666,
              "#ed7953"
             ],
             [
              0.7777777777777778,
              "#fb9f3a"
             ],
             [
              0.8888888888888888,
              "#fdca26"
             ],
             [
              1,
              "#f0f921"
             ]
            ],
            "type": "contour"
           }
          ],
          "contourcarpet": [
           {
            "colorbar": {
             "outlinewidth": 0,
             "ticks": ""
            },
            "type": "contourcarpet"
           }
          ],
          "heatmap": [
           {
            "colorbar": {
             "outlinewidth": 0,
             "ticks": ""
            },
            "colorscale": [
             [
              0,
              "#0d0887"
             ],
             [
              0.1111111111111111,
              "#46039f"
             ],
             [
              0.2222222222222222,
              "#7201a8"
             ],
             [
              0.3333333333333333,
              "#9c179e"
             ],
             [
              0.4444444444444444,
              "#bd3786"
             ],
             [
              0.5555555555555556,
              "#d8576b"
             ],
             [
              0.6666666666666666,
              "#ed7953"
             ],
             [
              0.7777777777777778,
              "#fb9f3a"
             ],
             [
              0.8888888888888888,
              "#fdca26"
             ],
             [
              1,
              "#f0f921"
             ]
            ],
            "type": "heatmap"
           }
          ],
          "heatmapgl": [
           {
            "colorbar": {
             "outlinewidth": 0,
             "ticks": ""
            },
            "colorscale": [
             [
              0,
              "#0d0887"
             ],
             [
              0.1111111111111111,
              "#46039f"
             ],
             [
              0.2222222222222222,
              "#7201a8"
             ],
             [
              0.3333333333333333,
              "#9c179e"
             ],
             [
              0.4444444444444444,
              "#bd3786"
             ],
             [
              0.5555555555555556,
              "#d8576b"
             ],
             [
              0.6666666666666666,
              "#ed7953"
             ],
             [
              0.7777777777777778,
              "#fb9f3a"
             ],
             [
              0.8888888888888888,
              "#fdca26"
             ],
             [
              1,
              "#f0f921"
             ]
            ],
            "type": "heatmapgl"
           }
          ],
          "histogram": [
           {
            "marker": {
             "pattern": {
              "fillmode": "overlay",
              "size": 10,
              "solidity": 0.2
             }
            },
            "type": "histogram"
           }
          ],
          "histogram2d": [
           {
            "colorbar": {
             "outlinewidth": 0,
             "ticks": ""
            },
            "colorscale": [
             [
              0,
              "#0d0887"
             ],
             [
              0.1111111111111111,
              "#46039f"
             ],
             [
              0.2222222222222222,
              "#7201a8"
             ],
             [
              0.3333333333333333,
              "#9c179e"
             ],
             [
              0.4444444444444444,
              "#bd3786"
             ],
             [
              0.5555555555555556,
              "#d8576b"
             ],
             [
              0.6666666666666666,
              "#ed7953"
             ],
             [
              0.7777777777777778,
              "#fb9f3a"
             ],
             [
              0.8888888888888888,
              "#fdca26"
             ],
             [
              1,
              "#f0f921"
             ]
            ],
            "type": "histogram2d"
           }
          ],
          "histogram2dcontour": [
           {
            "colorbar": {
             "outlinewidth": 0,
             "ticks": ""
            },
            "colorscale": [
             [
              0,
              "#0d0887"
             ],
             [
              0.1111111111111111,
              "#46039f"
             ],
             [
              0.2222222222222222,
              "#7201a8"
             ],
             [
              0.3333333333333333,
              "#9c179e"
             ],
             [
              0.4444444444444444,
              "#bd3786"
             ],
             [
              0.5555555555555556,
              "#d8576b"
             ],
             [
              0.6666666666666666,
              "#ed7953"
             ],
             [
              0.7777777777777778,
              "#fb9f3a"
             ],
             [
              0.8888888888888888,
              "#fdca26"
             ],
             [
              1,
              "#f0f921"
             ]
            ],
            "type": "histogram2dcontour"
           }
          ],
          "mesh3d": [
           {
            "colorbar": {
             "outlinewidth": 0,
             "ticks": ""
            },
            "type": "mesh3d"
           }
          ],
          "parcoords": [
           {
            "line": {
             "colorbar": {
              "outlinewidth": 0,
              "ticks": ""
             }
            },
            "type": "parcoords"
           }
          ],
          "pie": [
           {
            "automargin": true,
            "type": "pie"
           }
          ],
          "scatter": [
           {
            "fillpattern": {
             "fillmode": "overlay",
             "size": 10,
             "solidity": 0.2
            },
            "type": "scatter"
           }
          ],
          "scatter3d": [
           {
            "line": {
             "colorbar": {
              "outlinewidth": 0,
              "ticks": ""
             }
            },
            "marker": {
             "colorbar": {
              "outlinewidth": 0,
              "ticks": ""
             }
            },
            "type": "scatter3d"
           }
          ],
          "scattercarpet": [
           {
            "marker": {
             "colorbar": {
              "outlinewidth": 0,
              "ticks": ""
             }
            },
            "type": "scattercarpet"
           }
          ],
          "scattergeo": [
           {
            "marker": {
             "colorbar": {
              "outlinewidth": 0,
              "ticks": ""
             }
            },
            "type": "scattergeo"
           }
          ],
          "scattergl": [
           {
            "marker": {
             "colorbar": {
              "outlinewidth": 0,
              "ticks": ""
             }
            },
            "type": "scattergl"
           }
          ],
          "scattermapbox": [
           {
            "marker": {
             "colorbar": {
              "outlinewidth": 0,
              "ticks": ""
             }
            },
            "type": "scattermapbox"
           }
          ],
          "scatterpolar": [
           {
            "marker": {
             "colorbar": {
              "outlinewidth": 0,
              "ticks": ""
             }
            },
            "type": "scatterpolar"
           }
          ],
          "scatterpolargl": [
           {
            "marker": {
             "colorbar": {
              "outlinewidth": 0,
              "ticks": ""
             }
            },
            "type": "scatterpolargl"
           }
          ],
          "scatterternary": [
           {
            "marker": {
             "colorbar": {
              "outlinewidth": 0,
              "ticks": ""
             }
            },
            "type": "scatterternary"
           }
          ],
          "surface": [
           {
            "colorbar": {
             "outlinewidth": 0,
             "ticks": ""
            },
            "colorscale": [
             [
              0,
              "#0d0887"
             ],
             [
              0.1111111111111111,
              "#46039f"
             ],
             [
              0.2222222222222222,
              "#7201a8"
             ],
             [
              0.3333333333333333,
              "#9c179e"
             ],
             [
              0.4444444444444444,
              "#bd3786"
             ],
             [
              0.5555555555555556,
              "#d8576b"
             ],
             [
              0.6666666666666666,
              "#ed7953"
             ],
             [
              0.7777777777777778,
              "#fb9f3a"
             ],
             [
              0.8888888888888888,
              "#fdca26"
             ],
             [
              1,
              "#f0f921"
             ]
            ],
            "type": "surface"
           }
          ],
          "table": [
           {
            "cells": {
             "fill": {
              "color": "#EBF0F8"
             },
             "line": {
              "color": "white"
             }
            },
            "header": {
             "fill": {
              "color": "#C8D4E3"
             },
             "line": {
              "color": "white"
             }
            },
            "type": "table"
           }
          ]
         },
         "layout": {
          "annotationdefaults": {
           "arrowcolor": "#2a3f5f",
           "arrowhead": 0,
           "arrowwidth": 1
          },
          "autotypenumbers": "strict",
          "coloraxis": {
           "colorbar": {
            "outlinewidth": 0,
            "ticks": ""
           }
          },
          "colorscale": {
           "diverging": [
            [
             0,
             "#8e0152"
            ],
            [
             0.1,
             "#c51b7d"
            ],
            [
             0.2,
             "#de77ae"
            ],
            [
             0.3,
             "#f1b6da"
            ],
            [
             0.4,
             "#fde0ef"
            ],
            [
             0.5,
             "#f7f7f7"
            ],
            [
             0.6,
             "#e6f5d0"
            ],
            [
             0.7,
             "#b8e186"
            ],
            [
             0.8,
             "#7fbc41"
            ],
            [
             0.9,
             "#4d9221"
            ],
            [
             1,
             "#276419"
            ]
           ],
           "sequential": [
            [
             0,
             "#0d0887"
            ],
            [
             0.1111111111111111,
             "#46039f"
            ],
            [
             0.2222222222222222,
             "#7201a8"
            ],
            [
             0.3333333333333333,
             "#9c179e"
            ],
            [
             0.4444444444444444,
             "#bd3786"
            ],
            [
             0.5555555555555556,
             "#d8576b"
            ],
            [
             0.6666666666666666,
             "#ed7953"
            ],
            [
             0.7777777777777778,
             "#fb9f3a"
            ],
            [
             0.8888888888888888,
             "#fdca26"
            ],
            [
             1,
             "#f0f921"
            ]
           ],
           "sequentialminus": [
            [
             0,
             "#0d0887"
            ],
            [
             0.1111111111111111,
             "#46039f"
            ],
            [
             0.2222222222222222,
             "#7201a8"
            ],
            [
             0.3333333333333333,
             "#9c179e"
            ],
            [
             0.4444444444444444,
             "#bd3786"
            ],
            [
             0.5555555555555556,
             "#d8576b"
            ],
            [
             0.6666666666666666,
             "#ed7953"
            ],
            [
             0.7777777777777778,
             "#fb9f3a"
            ],
            [
             0.8888888888888888,
             "#fdca26"
            ],
            [
             1,
             "#f0f921"
            ]
           ]
          },
          "colorway": [
           "#636efa",
           "#EF553B",
           "#00cc96",
           "#ab63fa",
           "#FFA15A",
           "#19d3f3",
           "#FF6692",
           "#B6E880",
           "#FF97FF",
           "#FECB52"
          ],
          "font": {
           "color": "#2a3f5f"
          },
          "geo": {
           "bgcolor": "white",
           "lakecolor": "white",
           "landcolor": "#E5ECF6",
           "showlakes": true,
           "showland": true,
           "subunitcolor": "white"
          },
          "hoverlabel": {
           "align": "left"
          },
          "hovermode": "closest",
          "mapbox": {
           "style": "light"
          },
          "paper_bgcolor": "white",
          "plot_bgcolor": "#E5ECF6",
          "polar": {
           "angularaxis": {
            "gridcolor": "white",
            "linecolor": "white",
            "ticks": ""
           },
           "bgcolor": "#E5ECF6",
           "radialaxis": {
            "gridcolor": "white",
            "linecolor": "white",
            "ticks": ""
           }
          },
          "scene": {
           "xaxis": {
            "backgroundcolor": "#E5ECF6",
            "gridcolor": "white",
            "gridwidth": 2,
            "linecolor": "white",
            "showbackground": true,
            "ticks": "",
            "zerolinecolor": "white"
           },
           "yaxis": {
            "backgroundcolor": "#E5ECF6",
            "gridcolor": "white",
            "gridwidth": 2,
            "linecolor": "white",
            "showbackground": true,
            "ticks": "",
            "zerolinecolor": "white"
           },
           "zaxis": {
            "backgroundcolor": "#E5ECF6",
            "gridcolor": "white",
            "gridwidth": 2,
            "linecolor": "white",
            "showbackground": true,
            "ticks": "",
            "zerolinecolor": "white"
           }
          },
          "shapedefaults": {
           "line": {
            "color": "#2a3f5f"
           }
          },
          "ternary": {
           "aaxis": {
            "gridcolor": "white",
            "linecolor": "white",
            "ticks": ""
           },
           "baxis": {
            "gridcolor": "white",
            "linecolor": "white",
            "ticks": ""
           },
           "bgcolor": "#E5ECF6",
           "caxis": {
            "gridcolor": "white",
            "linecolor": "white",
            "ticks": ""
           }
          },
          "title": {
           "x": 0.05
          },
          "xaxis": {
           "automargin": true,
           "gridcolor": "white",
           "linecolor": "white",
           "ticks": "",
           "title": {
            "standoff": 15
           },
           "zerolinecolor": "white",
           "zerolinewidth": 2
          },
          "yaxis": {
           "automargin": true,
           "gridcolor": "white",
           "linecolor": "white",
           "ticks": "",
           "title": {
            "standoff": 15
           },
           "zerolinecolor": "white",
           "zerolinewidth": 2
          }
         }
        },
        "title": {
         "text": "foo",
         "x": 0.5
        },
        "width": 900,
        "xaxis": {
         "anchor": "y",
         "domain": [
          0,
          1
         ],
         "title": {
          "text": "Year"
         }
        },
        "yaxis": {
         "anchor": "x",
         "autorange": "reversed",
         "domain": [
          0,
          1
         ],
         "title": {
          "text": "Bars"
         }
        }
       }
      }
     },
     "metadata": {},
     "output_type": "display_data"
    }
   ],
   "source": [
    "min_values_dict = {}\n",
    "avg_values_dict = {}\n",
    "max_values_dict = {}\n",
    "\n",
    "for desired_year in YEARS:\n",
    "        pattern = f'*_{desired_year}_*.csv'\n",
    "        files = glob.glob(os.path.join(r'Housing_capacity', pattern))\n",
    "\n",
    "        for file_path in files:\n",
    "            housing_capacity = pd.read_csv(file_path)\n",
    "            housing_capacity_list = housing_capacity.values.flatten().tolist()\n",
    "\n",
    "            _, _, year_from_filename, _, bar_name = os.path.basename(file_path).split('_')\n",
    "\n",
    "            year_from_filename = int(year_from_filename)\n",
    "            bar_name = bar_name[:-4]\n",
    "\n",
    "            if year_from_filename not in min_values_dict:\n",
    "                min_values_dict[year_from_filename] = {}\n",
    "                avg_values_dict[year_from_filename] = {}\n",
    "                max_values_dict[year_from_filename] = {}\n",
    "\n",
    "            min_values_dict[year_from_filename][bar_name] = min(housing_capacity_list)\n",
    "            avg_values_dict[year_from_filename][bar_name] = int(round((avg(housing_capacity_list))))\n",
    "            max_values_dict[year_from_filename][bar_name] = max(housing_capacity_list)\n",
    "        \n",
    "            for year, values in min_values_dict.items():\n",
    "                sorted_bars = sorted(values, reverse= True)\n",
    "                min_values_dict[year] = {bar_name: values[bar_name] for bar_name in sorted_bars}\n",
    "                \n",
    "            for year, values in max_values_dict.items():\n",
    "                sorted_bars = sorted(values, reverse= True)\n",
    "                max_values_dict[year] = {bar_name: values[bar_name] for bar_name in sorted_bars}\n",
    "\n",
    "avg_df = pd.DataFrame(avg_values_dict)\n",
    "\n",
    "fig = px.imshow(avg_df,\n",
    "                labels= dict(x= \"Year\", \n",
    "                             y= \"Bars\", \n",
    "                             color= \"Avg Value\"),\n",
    "                x= avg_df.columns,\n",
    "                y= avg_df.index,\n",
    "                color_continuous_scale= \"Portland\",\n",
    "                aspect= 'auto')\n",
    "\n",
    "for year in YEARS:\n",
    "    for idx, bar in enumerate(selected_bars):\n",
    "        min_value = min_values_dict[year][bar.name]\n",
    "        max_value = max_values_dict[year][bar.name]\n",
    "        fig.add_annotation(x= year,\n",
    "                           y= idx,\n",
    "                           text= '{}<br>{}'.format(max_value, min_value),\n",
    "                           showarrow= False,\n",
    "                           font= dict(color='white'),\n",
    "                           align= 'center')\n",
    "\n",
    "fig.update_layout(title= 'foo')\n",
    "\n",
    "fig.update_layout(height= 2400,\n",
    "                  width= 900)\n",
    "\n",
    "fig.update_layout(title_x= 0.5)\n"
   ]
  }
 ],
 "metadata": {
  "kernelspec": {
   "display_name": "Python 3",
   "language": "python",
   "name": "python3"
  },
  "language_info": {
   "codemirror_mode": {
    "name": "ipython",
    "version": 3
   },
   "file_extension": ".py",
   "mimetype": "text/x-python",
   "name": "python",
   "nbconvert_exporter": "python",
   "pygments_lexer": "ipython3",
   "version": "3.11.2"
  },
  "orig_nbformat": 4
 },
 "nbformat": 4,
 "nbformat_minor": 2
}
